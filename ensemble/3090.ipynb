{
 "cells": [
  {
   "cell_type": "code",
   "execution_count": 4,
   "metadata": {},
   "outputs": [],
   "source": [
    "import pandas as pd\n",
    "\n",
    "install_df = {}\n",
    "click_df = {}\n",
    "\n",
    "def add_prob(pth, model, post=''):\n",
    "    df_tmp = pd.read_csv(pth, sep='\\t')\n",
    "    if 'install' in pth:\n",
    "        install_df[f'p_install_{model}{post}'] = df_tmp['is_installed_prob']\n",
    "    if 'click' in pth:\n",
    "        click_df[f'p_click_{model}{post}'] = df_tmp['is_clicked_prob']"
   ]
  },
  {
   "cell_type": "code",
   "execution_count": 5,
   "metadata": {},
   "outputs": [],
   "source": [
    "files0 = [\n",
    "    (\"/root/autodl-tmp/xingmei/RecSys23/predictions/XGBoost/2023-06-20-23-27-15is_installed.csv\", 'XGBoost', '_6604'),\n",
    "    (\"/root/autodl-tmp/xingmei/RecSys23/predictions/XGBoost/2023-06-20-13-15-54is_installed.csv\", 'XGBoost', '_660'),\n",
    "    (\"/root/autodl-tmp/xingmei/RecSys23/predictions/DCNv2/2023-06-18-22-42-47is_installed.csv\", 'DCNv2', '_649')\n",
    "]"
   ]
  },
  {
   "cell_type": "code",
   "execution_count": 6,
   "metadata": {},
   "outputs": [],
   "source": [
    "for pth, model, post in files0:\n",
    "    add_prob(pth, model, post)\n",
    "install_df = pd.DataFrame(install_df)"
   ]
  },
  {
   "cell_type": "code",
   "execution_count": null,
   "metadata": {},
   "outputs": [],
   "source": [
    "install_df.to_csv('/root/autodl-tmp/xingmei/RecSys23/data/install_probs_trn_val_tst_3090_0.csv', sep='\\t', index=False)"
   ]
  }
 ],
 "metadata": {
  "kernelspec": {
   "display_name": "recstudio",
   "language": "python",
   "name": "python3"
  },
  "language_info": {
   "codemirror_mode": {
    "name": "ipython",
    "version": 3
   },
   "file_extension": ".py",
   "mimetype": "text/x-python",
   "name": "python",
   "nbconvert_exporter": "python",
   "pygments_lexer": "ipython3",
   "version": "3.11.3"
  },
  "orig_nbformat": 4
 },
 "nbformat": 4,
 "nbformat_minor": 2
}
