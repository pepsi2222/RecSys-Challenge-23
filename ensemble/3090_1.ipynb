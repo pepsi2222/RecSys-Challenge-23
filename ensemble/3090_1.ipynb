{
 "cells": [
  {
   "cell_type": "code",
   "execution_count": null,
   "metadata": {},
   "outputs": [],
   "source": [
    "import pandas as pd\n",
    "\n",
    "install_df = {}\n",
    "click_df = {}\n",
    "\n",
    "def add_prob(pth, model, post=''):\n",
    "    df_tmp = pd.read_csv(pth, sep='\\t')\n",
    "    if 'install' in pth:\n",
    "        install_df[f'p_install_{model}{post}'] = df_tmp['is_installed_prob']\n",
    "    if 'click' in pth:\n",
    "        click_df[f'p_click_{model}{post}'] = df_tmp['is_clicked_prob']"
   ]
  },
  {
   "cell_type": "code",
   "execution_count": null,
   "metadata": {},
   "outputs": [],
   "source": [
    "files0 = [\n",
    "    \n",
    "]"
   ]
  },
  {
   "cell_type": "code",
   "execution_count": null,
   "metadata": {},
   "outputs": [],
   "source": [
    "for pth, model, post in files0:\n",
    "    add_prob(pth, model, post)"
   ]
  },
  {
   "cell_type": "code",
   "execution_count": null,
   "metadata": {},
   "outputs": [],
   "source": [
    "install_df = pd.DataFrame(install_df)\n",
    "click_df = pd.DataFrame(click_df)"
   ]
  },
  {
   "cell_type": "code",
   "execution_count": null,
   "metadata": {},
   "outputs": [],
   "source": [
    "install_df"
   ]
  },
  {
   "cell_type": "code",
   "execution_count": null,
   "metadata": {},
   "outputs": [],
   "source": [
    "click_df"
   ]
  },
  {
   "cell_type": "code",
   "execution_count": null,
   "metadata": {},
   "outputs": [],
   "source": [
    "install_df.to_csv('/root/autodl-tmp/xingmei/RecSys23/data/install_probs_trn_val_tst_3090_1.csv', sep='\\t', index=False)\n",
    "# click_df.to_csv('/root/autodl-tmp/xingmei/RecSys23/data/click_probs_trn_val_tst_1401_1.csv', sep='\\t', index=False)"
   ]
  }
 ],
 "metadata": {
  "kernelspec": {
   "display_name": "recsys",
   "language": "python",
   "name": "python3"
  },
  "language_info": {
   "codemirror_mode": {
    "name": "ipython",
    "version": 3
   },
   "file_extension": ".py",
   "mimetype": "text/x-python",
   "name": "python",
   "nbconvert_exporter": "python",
   "pygments_lexer": "ipython3",
   "version": "3.11.3"
  },
  "orig_nbformat": 4
 },
 "nbformat": 4,
 "nbformat_minor": 2
}
