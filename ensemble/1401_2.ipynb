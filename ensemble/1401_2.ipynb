{
 "cells": [
  {
   "cell_type": "code",
   "execution_count": 1,
   "metadata": {},
   "outputs": [],
   "source": [
    "import pandas as pd\n",
    "\n",
    "install_df = {}\n",
    "\n",
    "def add_prob(pth, model):\n",
    "    df_tmp = pd.read_csv(pth, sep='\\t')\n",
    "    if 'install' in pth:\n",
    "        install_df[f'p_install_{model}'] = df_tmp['is_installed_prob']"
   ]
  },
  {
   "cell_type": "code",
   "execution_count": 2,
   "metadata": {},
   "outputs": [],
   "source": [
    "files0 = [\n",
    "    (\"../predictions/HardSharePPNet/2023-06-23-02-36-28['is_clicked', 'is_installed'].csv\", 'hspp_626'),\n",
    "    (\"../predictions/HardSharePPNet/2023-06-23-02-28-10['is_clicked', 'is_installed'].csv\", 'hspp_628'),\n",
    "    (\"../predictions/HardSharePPNet/2023-06-23-02-27-47['is_clicked', 'is_installed'].csv\", 'hspp_629'),\n",
    "    (\"../predictions/HardSharePPNet/2023-06-23-02-24-05['is_clicked', 'is_installed'].csv\", 'hspp_631'),\n",
    "    (\"../predictions/HardSharePPNet/2023-06-23-02-28-58['is_clicked', 'is_installed'].csv\", 'hspp_633'),\n",
    "    (\"/data2/home/xingmei/RecSys23/predictions/PPNet/2023-06-23-00-59-44is_installed.csv\", 'pp_633'),\n",
    "    (\"/data2/home/xingmei/RecSys23/predictions/HardSharePPNet/2023-06-23-01-58-28['is_clicked', 'is_installed'].csv\", 'hspp_633'),\n",
    "    (\"../predictions/HardSharePPNet/2023-06-23-03-00-03['is_clicked', 'is_installed'].csv\", 'hspp_634'),\n",
    "    (\"/data2/home/xingmei/RecSys23/predictions/PPNet/2023-06-22-21-18-00is_installed.csv\", 'pp_637'),\n",
    "    (\"/data2/home/xingmei/RecSys23/predictions/PPNet/2023-06-23-00-59-01is_installed.csv\", 'pp_638'),\n",
    "    (\"/data2/home/xingmei/RecSys23/predictions/PPNet/2023-06-22-22-20-14is_installed.csv\", 'pp_638'),\n",
    "    (\"/data2/home/xingmei/RecSys23/predictions/PPNet/2023-06-22-22-02-56is_installed.csv\", 'pp_641'),\n",
    "    (\"../predictions/HardSharePPNetSEnet/2023-06-23-02-35-02['is_clicked', 'is_installed'].csv\", 'hsppse_645'),\n",
    "    (\"../predictions/HardSharePPNetSEnet/2023-06-23-02-40-39['is_clicked', 'is_installed'].csv\", 'hspp_654'),\n",
    "    (\"../predictions/HardSharePPNet/2023-06-23-03-11-17['is_clicked', 'is_installed'].csv\", 'pp_3848')\n",
    "]"
   ]
  },
  {
   "cell_type": "code",
   "execution_count": 3,
   "metadata": {},
   "outputs": [],
   "source": [
    "for pth, model in files0:\n",
    "    add_prob(pth, model)"
   ]
  },
  {
   "cell_type": "code",
   "execution_count": null,
   "metadata": {},
   "outputs": [],
   "source": [
    "install_df = pd.DataFrame(install_df)"
   ]
  },
  {
   "cell_type": "code",
   "execution_count": null,
   "metadata": {},
   "outputs": [],
   "source": [
    "install_df.to_csv('/data2/home/xingmei/RecSys23/data/pp.csv', sep='\\t', index=False)"
   ]
  }
 ],
 "metadata": {
  "kernelspec": {
   "display_name": "recsys",
   "language": "python",
   "name": "python3"
  },
  "language_info": {
   "codemirror_mode": {
    "name": "ipython",
    "version": 3
   },
   "file_extension": ".py",
   "mimetype": "text/x-python",
   "name": "python",
   "nbconvert_exporter": "python",
   "pygments_lexer": "ipython3",
   "version": "3.11.3"
  },
  "orig_nbformat": 4
 },
 "nbformat": 4,
 "nbformat_minor": 2
}
