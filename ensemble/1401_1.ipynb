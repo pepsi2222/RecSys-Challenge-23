{
 "cells": [
  {
   "cell_type": "code",
   "execution_count": null,
   "metadata": {},
   "outputs": [],
   "source": [
    "import pandas as pd\n",
    "\n",
    "install_df = {}\n",
    "click_df = {}\n",
    "\n",
    "def add_prob(pth, model, post=''):\n",
    "    df_tmp = pd.read_csv(pth, sep='\\t')\n",
    "    if 'install' in pth:\n",
    "        install_df[f'p_install_{model}{post}'] = df_tmp['is_installed_prob']\n",
    "    if 'click' in pth:\n",
    "        click_df[f'p_click_{model}{post}'] = df_tmp['is_clicked_prob']"
   ]
  },
  {
   "cell_type": "code",
   "execution_count": null,
   "metadata": {},
   "outputs": [],
   "source": [
    "files0 = [\n",
    "    # (\"/data2/home/xingmei/RecSys23/predictions/PLEMLP/2023-06-21-16-26-42['is_clicked', 'is_installed'].csv\", 'PLEMLP', '_3760'),\n",
    "    # (\"/data2/home/xingmei/RecSys23/predictions/PLEMLP/2023-06-21-16-20-06['is_clicked', 'is_installed'].csv\", 'PLEMLP', '_3738'),\n",
    "    # (\"/data2/home/xingmei/RecSys23/predictions/PLEMLP/2023-06-21-17-07-27['is_clicked', 'is_installed'].csv\", 'PLEMLP', '_3752'),\n",
    "    # (\"/data2/home/xingmei/RecSys23/predictions/PLEMLP/2023-06-21-17-13-07['is_clicked', 'is_installed'].csv\", 'PLEMLP', '_3768'),\n",
    "    # (\"/data2/home/xingmei/RecSys23/predictions/PLEMLP/2023-06-21-17-13-00['is_clicked', 'is_installed'].csv\", 'PLEMLP', '_3755'),\n",
    "    # (\"/data2/home/xingmei/RecSys23/predictions/PLEMLP/2023-06-21-17-37-50['is_clicked', 'is_installed'].csv\", 'PLEMLP', '_638'), # 3726\n",
    "    # (\"/data2/home/xingmei/RecSys23/predictions/PLEMLP/2023-06-21-17-44-25['is_clicked', 'is_installed'].csv\", 'PLEMLP', '_654'), # 3736\n",
    "    # (\"/data2/home/xingmei/RecSys23/predictions/PLEMLP/2023-06-21-17-41-26['is_clicked', 'is_installed'].csv\", 'PLEMLP', '_656'), # 3724\n",
    "    # (\"/data2/home/xingmei/RecSys23/predictions/PLEMLP/2023-06-21-19-05-06['is_clicked', 'is_installed'].csv\", 'PLEMLP', '_660'), # 3755\n",
    "    # (\"/data2/home/xingmei/RecSys23/predictions/PLEMLP/2023-06-21-20-58-57['is_clicked', 'is_installed'].csv\", 'PLEMLP', '_667'), # 3638\n",
    "    \n",
    "    # (\"/data2/home/xingmei/RecSys23/predictions/PLESEnet/2023-06-21-20-51-35['is_clicked', 'is_installed'].csv\", 'PLESEnet', '_672') # 3832\n",
    "    # (\"/data2/home/xingmei/RecSys23/predictions/PLESEnet/2023-06-21-20-52-19['is_clicked', 'is_installed'].csv\", 'PLESEnet', '_664') # 3767\n",
    "    # (\"/data2/home/xingmei/RecSys23/predictions/PLESEnet/2023-06-21-21-22-33['is_clicked', 'is_installed'].csv\", 'PLESEnet', '_649'), # 3696\n",
    "    # (\"/data2/home/xingmei/RecSys23/predictions/PLESEnet/2023-06-21-22-14-28['is_clicked', 'is_installed'].csv\", 'PLESEnet', '_652'), # 3696\n",
    "    # (\"/data2/home/xingmei/RecSys23/predictions/PLESEnet/2023-06-21-22-15-12['is_clicked', 'is_installed'].csv\", 'PLESEnet', '_657'), # 3739\n",
    "    # (\"/data2/home/xingmei/RecSys23/predictions/PLESEnet/2023-06-21-22-35-58['is_clicked', 'is_installed'].csv\", 'PLESEnet', '_'), # 3707\n",
    "    # (\"/data2/home/xingmei/RecSys23/predictions/PLESEnet/2023-06-21-22-37-54['is_clicked', 'is_installed'].csv\", 'PLESEnet', '_3754'),\n",
    "    \n",
    "]"
   ]
  },
  {
   "cell_type": "code",
   "execution_count": null,
   "metadata": {},
   "outputs": [],
   "source": [
    "for pth, model, post in files0:\n",
    "    add_prob(pth, model, post)"
   ]
  },
  {
   "cell_type": "code",
   "execution_count": null,
   "metadata": {},
   "outputs": [],
   "source": [
    "install_df = pd.DataFrame(install_df)\n",
    "click_df = pd.DataFrame(click_df)"
   ]
  },
  {
   "cell_type": "code",
   "execution_count": null,
   "metadata": {},
   "outputs": [],
   "source": [
    "install_df"
   ]
  },
  {
   "cell_type": "code",
   "execution_count": null,
   "metadata": {},
   "outputs": [],
   "source": [
    "click_df"
   ]
  },
  {
   "cell_type": "code",
   "execution_count": null,
   "metadata": {},
   "outputs": [],
   "source": [
    "install_df.to_csv('/data2/home/xingmei/RecSys23/data/install_probs_trn_val_tst_1401_1.csv', sep='\\t', index=False)\n",
    "click_df.to_csv('/data2/home/xingmei/RecSys23/data/click_probs_trn_val_tst_1401_1.csv', sep='\\t', index=False)"
   ]
  }
 ],
 "metadata": {
  "kernelspec": {
   "display_name": "recsys",
   "language": "python",
   "name": "python3"
  },
  "language_info": {
   "codemirror_mode": {
    "name": "ipython",
    "version": 3
   },
   "file_extension": ".py",
   "mimetype": "text/x-python",
   "name": "python",
   "nbconvert_exporter": "python",
   "pygments_lexer": "ipython3",
   "version": "3.11.3"
  },
  "orig_nbformat": 4
 },
 "nbformat": 4,
 "nbformat_minor": 2
}
