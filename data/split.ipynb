{
 "cells": [
  {
   "cell_type": "code",
   "execution_count": 1,
   "metadata": {},
   "outputs": [],
   "source": [
    "import pandas as pd\n",
    "import os\n",
    "\n",
    "ori_data_pth = '/root/data/xingmei/Sharechat-RecSys-Challenge-23/data/train.csv'\n",
    "trn_data_pth = '/root/data/xingmei/Sharechat-RecSys-Challenge-23/data/customized_trn.csv'\n",
    "val_data_pth = '/root/data/xingmei/Sharechat-RecSys-Challenge-23/data/customized_val.csv'\n",
    "saved_data_pth = '/root/data/xingmei/Sharechat-RecSys-Challenge-23/data/trn_val.csv'"
   ]
  },
  {
   "cell_type": "code",
   "execution_count": 2,
   "metadata": {},
   "outputs": [],
   "source": [
    "df = pd.read_csv(ori_data_pth, sep='\\t')"
   ]
  },
  {
   "cell_type": "code",
   "execution_count": 3,
   "metadata": {},
   "outputs": [
    {
     "data": {
      "text/plain": [
       "66"
      ]
     },
     "execution_count": 3,
     "metadata": {},
     "output_type": "execute_result"
    }
   ],
   "source": [
    "df['f_1'].max()"
   ]
  },
  {
   "cell_type": "code",
   "execution_count": 4,
   "metadata": {},
   "outputs": [],
   "source": [
    "trn_df = df[df['f_1'] != 66].copy()\n",
    "val_df = df[df['f_1'] == 66].copy()\n",
    "trn_df.drop(columns='f_0', inplace=True)\n",
    "val_df.drop(columns='f_0', inplace=True)"
   ]
  },
  {
   "cell_type": "code",
   "execution_count": 5,
   "metadata": {},
   "outputs": [
    {
     "data": {
      "text/html": [
       "<div>\n",
       "<style scoped>\n",
       "    .dataframe tbody tr th:only-of-type {\n",
       "        vertical-align: middle;\n",
       "    }\n",
       "\n",
       "    .dataframe tbody tr th {\n",
       "        vertical-align: top;\n",
       "    }\n",
       "\n",
       "    .dataframe thead th {\n",
       "        text-align: right;\n",
       "    }\n",
       "</style>\n",
       "<table border=\"1\" class=\"dataframe\">\n",
       "  <thead>\n",
       "    <tr style=\"text-align: right;\">\n",
       "      <th></th>\n",
       "      <th>f_1</th>\n",
       "      <th>f_2</th>\n",
       "      <th>f_3</th>\n",
       "      <th>f_4</th>\n",
       "      <th>f_5</th>\n",
       "      <th>f_6</th>\n",
       "      <th>f_7</th>\n",
       "      <th>f_8</th>\n",
       "      <th>f_9</th>\n",
       "      <th>f_10</th>\n",
       "      <th>...</th>\n",
       "      <th>f_72</th>\n",
       "      <th>f_73</th>\n",
       "      <th>f_74</th>\n",
       "      <th>f_75</th>\n",
       "      <th>f_76</th>\n",
       "      <th>f_77</th>\n",
       "      <th>f_78</th>\n",
       "      <th>f_79</th>\n",
       "      <th>is_clicked</th>\n",
       "      <th>is_installed</th>\n",
       "    </tr>\n",
       "  </thead>\n",
       "  <tbody>\n",
       "    <tr>\n",
       "      <th>1223263</th>\n",
       "      <td>62</td>\n",
       "      <td>20095</td>\n",
       "      <td>563</td>\n",
       "      <td>31686</td>\n",
       "      <td>21545</td>\n",
       "      <td>590</td>\n",
       "      <td>27941</td>\n",
       "      <td>19203</td>\n",
       "      <td>23218</td>\n",
       "      <td>19343</td>\n",
       "      <td>...</td>\n",
       "      <td>0.000000</td>\n",
       "      <td>0.000000</td>\n",
       "      <td>0.115692</td>\n",
       "      <td>1.156922</td>\n",
       "      <td>0.269948</td>\n",
       "      <td>0.0</td>\n",
       "      <td>0.0</td>\n",
       "      <td>0.0</td>\n",
       "      <td>0</td>\n",
       "      <td>0</td>\n",
       "    </tr>\n",
       "    <tr>\n",
       "      <th>2900209</th>\n",
       "      <td>57</td>\n",
       "      <td>14829</td>\n",
       "      <td>22294</td>\n",
       "      <td>26672</td>\n",
       "      <td>21545</td>\n",
       "      <td>8605</td>\n",
       "      <td>27941</td>\n",
       "      <td>21218</td>\n",
       "      <td>21533</td>\n",
       "      <td>19343</td>\n",
       "      <td>...</td>\n",
       "      <td>0.000000</td>\n",
       "      <td>0.000000</td>\n",
       "      <td>0.000000</td>\n",
       "      <td>1.156922</td>\n",
       "      <td>0.269948</td>\n",
       "      <td>0.0</td>\n",
       "      <td>0.0</td>\n",
       "      <td>0.0</td>\n",
       "      <td>1</td>\n",
       "      <td>0</td>\n",
       "    </tr>\n",
       "    <tr>\n",
       "      <th>1781042</th>\n",
       "      <td>58</td>\n",
       "      <td>26325</td>\n",
       "      <td>22294</td>\n",
       "      <td>9018</td>\n",
       "      <td>21545</td>\n",
       "      <td>26484</td>\n",
       "      <td>27941</td>\n",
       "      <td>18800</td>\n",
       "      <td>31372</td>\n",
       "      <td>22970</td>\n",
       "      <td>...</td>\n",
       "      <td>0.000000</td>\n",
       "      <td>0.000000</td>\n",
       "      <td>0.000000</td>\n",
       "      <td>0.925538</td>\n",
       "      <td>0.115692</td>\n",
       "      <td>0.0</td>\n",
       "      <td>0.0</td>\n",
       "      <td>0.0</td>\n",
       "      <td>0</td>\n",
       "      <td>0</td>\n",
       "    </tr>\n",
       "    <tr>\n",
       "      <th>588537</th>\n",
       "      <td>54</td>\n",
       "      <td>23611</td>\n",
       "      <td>22294</td>\n",
       "      <td>17511</td>\n",
       "      <td>25604</td>\n",
       "      <td>928</td>\n",
       "      <td>27941</td>\n",
       "      <td>19203</td>\n",
       "      <td>9638</td>\n",
       "      <td>19343</td>\n",
       "      <td>...</td>\n",
       "      <td>1.142243</td>\n",
       "      <td>0.571121</td>\n",
       "      <td>0.115692</td>\n",
       "      <td>1.156922</td>\n",
       "      <td>0.231384</td>\n",
       "      <td>0.0</td>\n",
       "      <td>0.0</td>\n",
       "      <td>0.0</td>\n",
       "      <td>0</td>\n",
       "      <td>0</td>\n",
       "    </tr>\n",
       "    <tr>\n",
       "      <th>145638</th>\n",
       "      <td>60</td>\n",
       "      <td>17216</td>\n",
       "      <td>7152</td>\n",
       "      <td>15742</td>\n",
       "      <td>21545</td>\n",
       "      <td>23877</td>\n",
       "      <td>27941</td>\n",
       "      <td>19203</td>\n",
       "      <td>14659</td>\n",
       "      <td>19343</td>\n",
       "      <td>...</td>\n",
       "      <td>0.000000</td>\n",
       "      <td>0.000000</td>\n",
       "      <td>0.000000</td>\n",
       "      <td>1.156922</td>\n",
       "      <td>0.269948</td>\n",
       "      <td>0.0</td>\n",
       "      <td>0.0</td>\n",
       "      <td>0.0</td>\n",
       "      <td>0</td>\n",
       "      <td>0</td>\n",
       "    </tr>\n",
       "  </tbody>\n",
       "</table>\n",
       "<p>5 rows × 81 columns</p>\n",
       "</div>"
      ],
      "text/plain": [
       "         f_1    f_2    f_3    f_4    f_5    f_6    f_7    f_8    f_9   f_10  \\\n",
       "1223263   62  20095    563  31686  21545    590  27941  19203  23218  19343   \n",
       "2900209   57  14829  22294  26672  21545   8605  27941  21218  21533  19343   \n",
       "1781042   58  26325  22294   9018  21545  26484  27941  18800  31372  22970   \n",
       "588537    54  23611  22294  17511  25604    928  27941  19203   9638  19343   \n",
       "145638    60  17216   7152  15742  21545  23877  27941  19203  14659  19343   \n",
       "\n",
       "         ...      f_72      f_73      f_74      f_75      f_76  f_77  f_78  \\\n",
       "1223263  ...  0.000000  0.000000  0.115692  1.156922  0.269948   0.0   0.0   \n",
       "2900209  ...  0.000000  0.000000  0.000000  1.156922  0.269948   0.0   0.0   \n",
       "1781042  ...  0.000000  0.000000  0.000000  0.925538  0.115692   0.0   0.0   \n",
       "588537   ...  1.142243  0.571121  0.115692  1.156922  0.231384   0.0   0.0   \n",
       "145638   ...  0.000000  0.000000  0.000000  1.156922  0.269948   0.0   0.0   \n",
       "\n",
       "         f_79  is_clicked  is_installed  \n",
       "1223263   0.0           0             0  \n",
       "2900209   0.0           1             0  \n",
       "1781042   0.0           0             0  \n",
       "588537    0.0           0             0  \n",
       "145638    0.0           0             0  \n",
       "\n",
       "[5 rows x 81 columns]"
      ]
     },
     "execution_count": 5,
     "metadata": {},
     "output_type": "execute_result"
    }
   ],
   "source": [
    "trn_df.sample(5)"
   ]
  },
  {
   "cell_type": "code",
   "execution_count": 6,
   "metadata": {},
   "outputs": [
    {
     "data": {
      "text/html": [
       "<div>\n",
       "<style scoped>\n",
       "    .dataframe tbody tr th:only-of-type {\n",
       "        vertical-align: middle;\n",
       "    }\n",
       "\n",
       "    .dataframe tbody tr th {\n",
       "        vertical-align: top;\n",
       "    }\n",
       "\n",
       "    .dataframe thead th {\n",
       "        text-align: right;\n",
       "    }\n",
       "</style>\n",
       "<table border=\"1\" class=\"dataframe\">\n",
       "  <thead>\n",
       "    <tr style=\"text-align: right;\">\n",
       "      <th></th>\n",
       "      <th>f_1</th>\n",
       "      <th>f_2</th>\n",
       "      <th>f_3</th>\n",
       "      <th>f_4</th>\n",
       "      <th>f_5</th>\n",
       "      <th>f_6</th>\n",
       "      <th>f_7</th>\n",
       "      <th>f_8</th>\n",
       "      <th>f_9</th>\n",
       "      <th>f_10</th>\n",
       "      <th>...</th>\n",
       "      <th>f_72</th>\n",
       "      <th>f_73</th>\n",
       "      <th>f_74</th>\n",
       "      <th>f_75</th>\n",
       "      <th>f_76</th>\n",
       "      <th>f_77</th>\n",
       "      <th>f_78</th>\n",
       "      <th>f_79</th>\n",
       "      <th>is_clicked</th>\n",
       "      <th>is_installed</th>\n",
       "    </tr>\n",
       "  </thead>\n",
       "  <tbody>\n",
       "    <tr>\n",
       "      <th>388800</th>\n",
       "      <td>66</td>\n",
       "      <td>11077</td>\n",
       "      <td>22294</td>\n",
       "      <td>13908</td>\n",
       "      <td>15908</td>\n",
       "      <td>7650</td>\n",
       "      <td>27941</td>\n",
       "      <td>21218</td>\n",
       "      <td>6675</td>\n",
       "      <td>19343</td>\n",
       "      <td>...</td>\n",
       "      <td>1.142243</td>\n",
       "      <td>0.571121</td>\n",
       "      <td>0.000000</td>\n",
       "      <td>1.156922</td>\n",
       "      <td>0.269948</td>\n",
       "      <td>0.0</td>\n",
       "      <td>0.0</td>\n",
       "      <td>0.0</td>\n",
       "      <td>0</td>\n",
       "      <td>0</td>\n",
       "    </tr>\n",
       "    <tr>\n",
       "      <th>143110</th>\n",
       "      <td>66</td>\n",
       "      <td>11077</td>\n",
       "      <td>7779</td>\n",
       "      <td>18575</td>\n",
       "      <td>25604</td>\n",
       "      <td>13503</td>\n",
       "      <td>27941</td>\n",
       "      <td>19203</td>\n",
       "      <td>6675</td>\n",
       "      <td>19343</td>\n",
       "      <td>...</td>\n",
       "      <td>0.000000</td>\n",
       "      <td>0.000000</td>\n",
       "      <td>0.115692</td>\n",
       "      <td>0.964102</td>\n",
       "      <td>0.269948</td>\n",
       "      <td>0.0</td>\n",
       "      <td>0.0</td>\n",
       "      <td>0.0</td>\n",
       "      <td>0</td>\n",
       "      <td>0</td>\n",
       "    </tr>\n",
       "    <tr>\n",
       "      <th>588229</th>\n",
       "      <td>66</td>\n",
       "      <td>20095</td>\n",
       "      <td>563</td>\n",
       "      <td>22861</td>\n",
       "      <td>25604</td>\n",
       "      <td>21280</td>\n",
       "      <td>27941</td>\n",
       "      <td>21218</td>\n",
       "      <td>6675</td>\n",
       "      <td>19343</td>\n",
       "      <td>...</td>\n",
       "      <td>1.142243</td>\n",
       "      <td>0.571121</td>\n",
       "      <td>0.000000</td>\n",
       "      <td>1.156922</td>\n",
       "      <td>0.269948</td>\n",
       "      <td>0.0</td>\n",
       "      <td>0.0</td>\n",
       "      <td>0.0</td>\n",
       "      <td>0</td>\n",
       "      <td>1</td>\n",
       "    </tr>\n",
       "    <tr>\n",
       "      <th>1268736</th>\n",
       "      <td>66</td>\n",
       "      <td>15471</td>\n",
       "      <td>22294</td>\n",
       "      <td>17660</td>\n",
       "      <td>25604</td>\n",
       "      <td>18841</td>\n",
       "      <td>27941</td>\n",
       "      <td>21621</td>\n",
       "      <td>6675</td>\n",
       "      <td>19343</td>\n",
       "      <td>...</td>\n",
       "      <td>2.855607</td>\n",
       "      <td>1.142243</td>\n",
       "      <td>0.115692</td>\n",
       "      <td>1.156922</td>\n",
       "      <td>0.269948</td>\n",
       "      <td>0.0</td>\n",
       "      <td>0.0</td>\n",
       "      <td>0.0</td>\n",
       "      <td>0</td>\n",
       "      <td>0</td>\n",
       "    </tr>\n",
       "    <tr>\n",
       "      <th>645910</th>\n",
       "      <td>66</td>\n",
       "      <td>26325</td>\n",
       "      <td>7152</td>\n",
       "      <td>21563</td>\n",
       "      <td>25604</td>\n",
       "      <td>23537</td>\n",
       "      <td>27941</td>\n",
       "      <td>19203</td>\n",
       "      <td>6675</td>\n",
       "      <td>19343</td>\n",
       "      <td>...</td>\n",
       "      <td>5.140093</td>\n",
       "      <td>1.713364</td>\n",
       "      <td>0.115692</td>\n",
       "      <td>1.156922</td>\n",
       "      <td>0.269948</td>\n",
       "      <td>0.0</td>\n",
       "      <td>0.0</td>\n",
       "      <td>0.0</td>\n",
       "      <td>1</td>\n",
       "      <td>1</td>\n",
       "    </tr>\n",
       "  </tbody>\n",
       "</table>\n",
       "<p>5 rows × 81 columns</p>\n",
       "</div>"
      ],
      "text/plain": [
       "         f_1    f_2    f_3    f_4    f_5    f_6    f_7    f_8   f_9   f_10  \\\n",
       "388800    66  11077  22294  13908  15908   7650  27941  21218  6675  19343   \n",
       "143110    66  11077   7779  18575  25604  13503  27941  19203  6675  19343   \n",
       "588229    66  20095    563  22861  25604  21280  27941  21218  6675  19343   \n",
       "1268736   66  15471  22294  17660  25604  18841  27941  21621  6675  19343   \n",
       "645910    66  26325   7152  21563  25604  23537  27941  19203  6675  19343   \n",
       "\n",
       "         ...      f_72      f_73      f_74      f_75      f_76  f_77  f_78  \\\n",
       "388800   ...  1.142243  0.571121  0.000000  1.156922  0.269948   0.0   0.0   \n",
       "143110   ...  0.000000  0.000000  0.115692  0.964102  0.269948   0.0   0.0   \n",
       "588229   ...  1.142243  0.571121  0.000000  1.156922  0.269948   0.0   0.0   \n",
       "1268736  ...  2.855607  1.142243  0.115692  1.156922  0.269948   0.0   0.0   \n",
       "645910   ...  5.140093  1.713364  0.115692  1.156922  0.269948   0.0   0.0   \n",
       "\n",
       "         f_79  is_clicked  is_installed  \n",
       "388800    0.0           0             0  \n",
       "143110    0.0           0             0  \n",
       "588229    0.0           0             1  \n",
       "1268736   0.0           0             0  \n",
       "645910    0.0           1             1  \n",
       "\n",
       "[5 rows x 81 columns]"
      ]
     },
     "execution_count": 6,
     "metadata": {},
     "output_type": "execute_result"
    }
   ],
   "source": [
    "val_df.sample(5)"
   ]
  },
  {
   "cell_type": "code",
   "execution_count": 12,
   "metadata": {},
   "outputs": [
    {
     "data": {
      "image/png": "[encoded data removed]",
      "text/plain": [
       "<Figure size 2000x500 with 2 Axes>"
      ]
     },
     "metadata": {},
     "output_type": "display_data"
    },
    {
     "name": "stdout",
     "output_type": "stream",
     "text": [
      "is_clicked \n",
      "Cust trn statistic - Null: 0.00 | Ratio of 1: 0.22\n",
      "Cust val statistic - Null: 0.00 | Ratio of 1: 0.36\n",
      "is_installed \n",
      "Cust trn statistic - Null: 0.00 | Ratio of 1: 0.17\n",
      "Cust val statistic - Null: 0.00 | Ratio of 1: 0.19\n"
     ]
    }
   ],
   "source": [
    "import matplotlib.pyplot as plt\n",
    "\n",
    "fig, ax = plt.subplots(1, 2, figsize=(20, 5))\n",
    "ax[0].hist([trn_df['is_clicked'].astype(str), val_df['is_clicked'].astype(str)], bins=2, label=['cust_trn', 'cust_val'], align='mid')\n",
    "ax[1].hist([trn_df['is_installed'].astype(str), val_df['is_installed'].astype(str)], bins=2, label=['cust_trn', 'cust_val'], align='mid')\n",
    "plt.legend(loc='best')\n",
    "ax[0].set_xlabel('is_clicked')\n",
    "ax[1].set_xlabel('is_installed')\n",
    "plt.show()\n",
    "plt.close()\n",
    "\n",
    "for i in ['is_clicked', 'is_installed']:\n",
    "    print(f\"{i} \\n\"\n",
    "          f\"Cust trn statistic - \"\n",
    "          f\"Null: {trn_df[i].isnull().mean():.2f} | \"\n",
    "          f\"Ratio of 1: {trn_df[i].mean():.2f}\"\n",
    "        )\n",
    "    print(f\"Cust val statistic - \"\n",
    "          f\"Null: {val_df[i].isnull().mean():.2f} | \"\n",
    "          f\"Ratio of 1: {val_df[i].mean():.2f}\"\n",
    "        )"
   ]
  },
  {
   "cell_type": "code",
   "execution_count": 12,
   "metadata": {},
   "outputs": [],
   "source": [
    "trn_df.to_csv(trn_data_pth, sep='\\t', index=False)\n",
    "val_df.to_csv(val_data_pth, sep='\\t', index=False)"
   ]
  },
  {
   "cell_type": "code",
   "execution_count": 13,
   "metadata": {},
   "outputs": [
    {
     "name": "stdout",
     "output_type": "stream",
     "text": [
      "(3387880, 81) (97972, 81)\n"
     ]
    }
   ],
   "source": [
    "print(trn_df.shape, val_df.shape)"
   ]
  },
  {
   "cell_type": "code",
   "execution_count": 14,
   "metadata": {},
   "outputs": [
    {
     "data": {
      "text/plain": [
       "0"
      ]
     },
     "execution_count": 14,
     "metadata": {},
     "output_type": "execute_result"
    }
   ],
   "source": [
    "os.system(f'(cat {trn_data_pth} && sed 1d {val_data_pth}) | cat > {saved_data_pth}')"
   ]
  },
  {
   "cell_type": "code",
   "execution_count": 16,
   "metadata": {},
   "outputs": [
    {
     "name": "stdout",
     "output_type": "stream",
     "text": [
      "f_2:token, f_3:token, f_4:token, f_5:token, f_6:token, f_7:token, f_8:token, f_9:token, f_10:token, f_11:token, f_12:token, f_13:token, f_14:token, f_15:token, f_16:token, f_17:token, f_18:token, f_19:token, f_20:token, f_21:token, f_22:token, f_23:token, f_24:token, f_25:token, f_26:token, f_27:token, f_28:token, f_29:token, f_30:token, f_31:token, f_32:token, f_33:token, f_34:token, f_35:token, f_36:token, f_37:token, f_38:token, f_39:token, f_40:token, f_41:token, f_42:float, f_43:float, f_44:float, f_45:float, f_46:float, f_47:float, f_48:float, f_49:float, f_50:float, f_51:float, f_52:float, f_53:float, f_54:float, f_55:float, f_56:float, f_57:float, f_58:float, f_59:float, f_60:float, f_61:float, f_62:float, f_63:float, f_64:float, f_65:float, f_66:float, f_67:float, f_68:float, f_69:float, f_70:float, f_71:float, f_72:float, f_73:float, f_74:float, f_75:float, f_76:float, f_77:float, f_78:float, f_79:float, \n"
     ]
    }
   ],
   "source": [
    "s = ''\n",
    "for i in range(2, 42):\n",
    "    s += f'f_{i}:token, '\n",
    "for i in range(42, 80):\n",
    "    s += f'f_{i}:float, '\n",
    "print(s)"
   ]
  },
  {
   "cell_type": "code",
   "execution_count": 20,
   "metadata": {},
   "outputs": [],
   "source": [
    "click_saved_data_pth = '/root/data/xingmei/Sharechat-RecSys-Challenge-23/data/click_trn_val.csv'\n",
    "install_saved_data_pth = '/root/data/xingmei/Sharechat-RecSys-Challenge-23/data/install_task_trn_val.csv'"
   ]
  },
  {
   "cell_type": "code",
   "execution_count": 21,
   "metadata": {},
   "outputs": [
    {
     "data": {
      "text/plain": [
       "0"
      ]
     },
     "execution_count": 21,
     "metadata": {},
     "output_type": "execute_result"
    }
   ],
   "source": [
    "trn_df.drop(columns='is_clicked').to_csv('tmp1.csv', sep='\\t', index=False)\n",
    "val_df.drop(columns='is_clicked').to_csv('tmp2.csv', sep='\\t', index=False)\n",
    "os.system(f'(cat tmp1.csv && sed 1d tmp2.csv) | cat > {install_saved_data_pth}')"
   ]
  },
  {
   "cell_type": "code",
   "execution_count": 22,
   "metadata": {},
   "outputs": [
    {
     "data": {
      "text/plain": [
       "0"
      ]
     },
     "execution_count": 22,
     "metadata": {},
     "output_type": "execute_result"
    }
   ],
   "source": [
    "trn_df.drop(columns='is_installed').to_csv('tmp1.csv', sep='\\t', index=False)\n",
    "val_df.drop(columns='is_installed').to_csv('tmp2.csv', sep='\\t', index=False)\n",
    "os.system(f'(cat tmp1.csv && sed 1d tmp2.csv) | cat > {click_saved_data_pth}')"
   ]
  },
  {
   "cell_type": "code",
   "execution_count": 23,
   "metadata": {},
   "outputs": [
    {
     "data": {
      "text/plain": [
       "0"
      ]
     },
     "execution_count": 23,
     "metadata": {},
     "output_type": "execute_result"
    }
   ],
   "source": [
    "os.system('rm tmp*.csv')"
   ]
  }
 ],
 "metadata": {
  "kernelspec": {
   "display_name": "recsys",
   "language": "python",
   "name": "python3"
  },
  "language_info": {
   "codemirror_mode": {
    "name": "ipython",
    "version": 3
   },
   "file_extension": ".py",
   "mimetype": "text/x-python",
   "name": "python",
   "nbconvert_exporter": "python",
   "pygments_lexer": "ipython3",
   "version": "3.10.10"
  },
  "orig_nbformat": 4
 },
 "nbformat": 4,
 "nbformat_minor": 2
}
