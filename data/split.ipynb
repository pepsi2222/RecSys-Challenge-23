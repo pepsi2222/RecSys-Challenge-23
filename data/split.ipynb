{
 "cells": [
  {
   "cell_type": "code",
   "execution_count": 1,
   "metadata": {},
   "outputs": [],
   "source": [
    "import pandas as pd\n",
    "import os\n",
    "\n",
    "ori_data_pth = '/root/data/xingmei/Sharechat-RecSys-Challenge-23/data/train.csv'\n",
    "trn_data_pth = '/root/data/xingmei/Sharechat-RecSys-Challenge-23/data/customized_trn.csv'\n",
    "val_data_pth = '/root/data/xingmei/Sharechat-RecSys-Challenge-23/data/customized_val.csv'\n",
    "saved_data_pth = '/root/data/xingmei/Sharechat-RecSys-Challenge-23/data/trn_val.csv'"
   ]
  },
  {
   "cell_type": "code",
   "execution_count": 2,
   "metadata": {},
   "outputs": [],
   "source": [
    "df = pd.read_csv(ori_data_pth, sep='\\t')"
   ]
  },
  {
   "cell_type": "code",
   "execution_count": 3,
   "metadata": {},
   "outputs": [
    {
     "data": {
      "text/plain": [
       "66"
      ]
     },
     "execution_count": 3,
     "metadata": {},
     "output_type": "execute_result"
    }
   ],
   "source": [
    "df['f_1'].max()"
   ]
  },
  {
   "cell_type": "code",
   "execution_count": 9,
   "metadata": {},
   "outputs": [],
   "source": [
    "trn_df = df[df['f_1'] != 66].copy()\n",
    "val_df = df[df['f_1'] == 66].copy()\n",
    "trn_df.drop(columns='f_0', inplace=True)\n",
    "val_df.drop(columns='f_0', inplace=True)"
   ]
  },
  {
   "cell_type": "code",
   "execution_count": 10,
   "metadata": {},
   "outputs": [
    {
     "data": {
      "text/html": [
       "<div>\n",
       "<style scoped>\n",
       "    .dataframe tbody tr th:only-of-type {\n",
       "        vertical-align: middle;\n",
       "    }\n",
       "\n",
       "    .dataframe tbody tr th {\n",
       "        vertical-align: top;\n",
       "    }\n",
       "\n",
       "    .dataframe thead th {\n",
       "        text-align: right;\n",
       "    }\n",
       "</style>\n",
       "<table border=\"1\" class=\"dataframe\">\n",
       "  <thead>\n",
       "    <tr style=\"text-align: right;\">\n",
       "      <th></th>\n",
       "      <th>f_1</th>\n",
       "      <th>f_2</th>\n",
       "      <th>f_3</th>\n",
       "      <th>f_4</th>\n",
       "      <th>f_5</th>\n",
       "      <th>f_6</th>\n",
       "      <th>f_7</th>\n",
       "      <th>f_8</th>\n",
       "      <th>f_9</th>\n",
       "      <th>f_10</th>\n",
       "      <th>...</th>\n",
       "      <th>f_72</th>\n",
       "      <th>f_73</th>\n",
       "      <th>f_74</th>\n",
       "      <th>f_75</th>\n",
       "      <th>f_76</th>\n",
       "      <th>f_77</th>\n",
       "      <th>f_78</th>\n",
       "      <th>f_79</th>\n",
       "      <th>is_clicked</th>\n",
       "      <th>is_installed</th>\n",
       "    </tr>\n",
       "  </thead>\n",
       "  <tbody>\n",
       "    <tr>\n",
       "      <th>2965373</th>\n",
       "      <td>49</td>\n",
       "      <td>23611</td>\n",
       "      <td>22294</td>\n",
       "      <td>17511</td>\n",
       "      <td>25604</td>\n",
       "      <td>24639</td>\n",
       "      <td>27941</td>\n",
       "      <td>19203</td>\n",
       "      <td>869</td>\n",
       "      <td>19343</td>\n",
       "      <td>...</td>\n",
       "      <td>1.142243</td>\n",
       "      <td>0.000000</td>\n",
       "      <td>0.115692</td>\n",
       "      <td>1.156922</td>\n",
       "      <td>0.269948</td>\n",
       "      <td>0.0</td>\n",
       "      <td>0.0</td>\n",
       "      <td>0.0</td>\n",
       "      <td>0</td>\n",
       "      <td>0</td>\n",
       "    </tr>\n",
       "    <tr>\n",
       "      <th>1569820</th>\n",
       "      <td>59</td>\n",
       "      <td>20095</td>\n",
       "      <td>563</td>\n",
       "      <td>22861</td>\n",
       "      <td>29304</td>\n",
       "      <td>21280</td>\n",
       "      <td>27941</td>\n",
       "      <td>18800</td>\n",
       "      <td>6675</td>\n",
       "      <td>19343</td>\n",
       "      <td>...</td>\n",
       "      <td>0.000000</td>\n",
       "      <td>0.000000</td>\n",
       "      <td>0.115692</td>\n",
       "      <td>1.156922</td>\n",
       "      <td>0.269948</td>\n",
       "      <td>0.0</td>\n",
       "      <td>0.0</td>\n",
       "      <td>0.0</td>\n",
       "      <td>0</td>\n",
       "      <td>0</td>\n",
       "    </tr>\n",
       "    <tr>\n",
       "      <th>1532024</th>\n",
       "      <td>45</td>\n",
       "      <td>30131</td>\n",
       "      <td>7152</td>\n",
       "      <td>16170</td>\n",
       "      <td>25604</td>\n",
       "      <td>7168</td>\n",
       "      <td>27941</td>\n",
       "      <td>21218</td>\n",
       "      <td>6675</td>\n",
       "      <td>22970</td>\n",
       "      <td>...</td>\n",
       "      <td>4.568972</td>\n",
       "      <td>1.713364</td>\n",
       "      <td>0.115692</td>\n",
       "      <td>1.156922</td>\n",
       "      <td>0.269948</td>\n",
       "      <td>0.0</td>\n",
       "      <td>0.0</td>\n",
       "      <td>0.0</td>\n",
       "      <td>0</td>\n",
       "      <td>0</td>\n",
       "    </tr>\n",
       "    <tr>\n",
       "      <th>1849719</th>\n",
       "      <td>48</td>\n",
       "      <td>20095</td>\n",
       "      <td>563</td>\n",
       "      <td>22861</td>\n",
       "      <td>19475</td>\n",
       "      <td>22651</td>\n",
       "      <td>27941</td>\n",
       "      <td>19606</td>\n",
       "      <td>23218</td>\n",
       "      <td>22970</td>\n",
       "      <td>...</td>\n",
       "      <td>0.000000</td>\n",
       "      <td>0.000000</td>\n",
       "      <td>0.000000</td>\n",
       "      <td>0.115692</td>\n",
       "      <td>0.077128</td>\n",
       "      <td>0.0</td>\n",
       "      <td>0.0</td>\n",
       "      <td>0.0</td>\n",
       "      <td>0</td>\n",
       "      <td>0</td>\n",
       "    </tr>\n",
       "    <tr>\n",
       "      <th>2467904</th>\n",
       "      <td>56</td>\n",
       "      <td>27426</td>\n",
       "      <td>22294</td>\n",
       "      <td>4987</td>\n",
       "      <td>21545</td>\n",
       "      <td>15643</td>\n",
       "      <td>27941</td>\n",
       "      <td>18800</td>\n",
       "      <td>869</td>\n",
       "      <td>19343</td>\n",
       "      <td>...</td>\n",
       "      <td>1.142243</td>\n",
       "      <td>0.000000</td>\n",
       "      <td>0.115692</td>\n",
       "      <td>1.156922</td>\n",
       "      <td>0.269948</td>\n",
       "      <td>0.0</td>\n",
       "      <td>0.0</td>\n",
       "      <td>0.0</td>\n",
       "      <td>1</td>\n",
       "      <td>0</td>\n",
       "    </tr>\n",
       "  </tbody>\n",
       "</table>\n",
       "<p>5 rows × 81 columns</p>\n",
       "</div>"
      ],
      "text/plain": [
       "         f_1    f_2    f_3    f_4    f_5    f_6    f_7    f_8    f_9   f_10  \\\n",
       "2965373   49  23611  22294  17511  25604  24639  27941  19203    869  19343   \n",
       "1569820   59  20095    563  22861  29304  21280  27941  18800   6675  19343   \n",
       "1532024   45  30131   7152  16170  25604   7168  27941  21218   6675  22970   \n",
       "1849719   48  20095    563  22861  19475  22651  27941  19606  23218  22970   \n",
       "2467904   56  27426  22294   4987  21545  15643  27941  18800    869  19343   \n",
       "\n",
       "         ...      f_72      f_73      f_74      f_75      f_76  f_77  f_78  \\\n",
       "2965373  ...  1.142243  0.000000  0.115692  1.156922  0.269948   0.0   0.0   \n",
       "1569820  ...  0.000000  0.000000  0.115692  1.156922  0.269948   0.0   0.0   \n",
       "1532024  ...  4.568972  1.713364  0.115692  1.156922  0.269948   0.0   0.0   \n",
       "1849719  ...  0.000000  0.000000  0.000000  0.115692  0.077128   0.0   0.0   \n",
       "2467904  ...  1.142243  0.000000  0.115692  1.156922  0.269948   0.0   0.0   \n",
       "\n",
       "         f_79  is_clicked  is_installed  \n",
       "2965373   0.0           0             0  \n",
       "1569820   0.0           0             0  \n",
       "1532024   0.0           0             0  \n",
       "1849719   0.0           0             0  \n",
       "2467904   0.0           1             0  \n",
       "\n",
       "[5 rows x 81 columns]"
      ]
     },
     "execution_count": 10,
     "metadata": {},
     "output_type": "execute_result"
    }
   ],
   "source": [
    "trn_df.sample(5)"
   ]
  },
  {
   "cell_type": "code",
   "execution_count": 11,
   "metadata": {},
   "outputs": [
    {
     "data": {
      "text/html": [
       "<div>\n",
       "<style scoped>\n",
       "    .dataframe tbody tr th:only-of-type {\n",
       "        vertical-align: middle;\n",
       "    }\n",
       "\n",
       "    .dataframe tbody tr th {\n",
       "        vertical-align: top;\n",
       "    }\n",
       "\n",
       "    .dataframe thead th {\n",
       "        text-align: right;\n",
       "    }\n",
       "</style>\n",
       "<table border=\"1\" class=\"dataframe\">\n",
       "  <thead>\n",
       "    <tr style=\"text-align: right;\">\n",
       "      <th></th>\n",
       "      <th>f_1</th>\n",
       "      <th>f_2</th>\n",
       "      <th>f_3</th>\n",
       "      <th>f_4</th>\n",
       "      <th>f_5</th>\n",
       "      <th>f_6</th>\n",
       "      <th>f_7</th>\n",
       "      <th>f_8</th>\n",
       "      <th>f_9</th>\n",
       "      <th>f_10</th>\n",
       "      <th>...</th>\n",
       "      <th>f_72</th>\n",
       "      <th>f_73</th>\n",
       "      <th>f_74</th>\n",
       "      <th>f_75</th>\n",
       "      <th>f_76</th>\n",
       "      <th>f_77</th>\n",
       "      <th>f_78</th>\n",
       "      <th>f_79</th>\n",
       "      <th>is_clicked</th>\n",
       "      <th>is_installed</th>\n",
       "    </tr>\n",
       "  </thead>\n",
       "  <tbody>\n",
       "    <tr>\n",
       "      <th>1124686</th>\n",
       "      <td>66</td>\n",
       "      <td>11077</td>\n",
       "      <td>7779</td>\n",
       "      <td>18575</td>\n",
       "      <td>21545</td>\n",
       "      <td>13503</td>\n",
       "      <td>27941</td>\n",
       "      <td>19606</td>\n",
       "      <td>6675</td>\n",
       "      <td>19343</td>\n",
       "      <td>...</td>\n",
       "      <td>0.000000</td>\n",
       "      <td>0.000000</td>\n",
       "      <td>0.115692</td>\n",
       "      <td>1.156922</td>\n",
       "      <td>0.269948</td>\n",
       "      <td>0.0</td>\n",
       "      <td>0.0</td>\n",
       "      <td>0.0</td>\n",
       "      <td>0</td>\n",
       "      <td>0</td>\n",
       "    </tr>\n",
       "    <tr>\n",
       "      <th>1655937</th>\n",
       "      <td>66</td>\n",
       "      <td>15471</td>\n",
       "      <td>22294</td>\n",
       "      <td>26278</td>\n",
       "      <td>25604</td>\n",
       "      <td>26291</td>\n",
       "      <td>27941</td>\n",
       "      <td>19203</td>\n",
       "      <td>6675</td>\n",
       "      <td>22970</td>\n",
       "      <td>...</td>\n",
       "      <td>0.000000</td>\n",
       "      <td>0.000000</td>\n",
       "      <td>0.000000</td>\n",
       "      <td>1.156922</td>\n",
       "      <td>0.154256</td>\n",
       "      <td>0.0</td>\n",
       "      <td>0.0</td>\n",
       "      <td>0.0</td>\n",
       "      <td>1</td>\n",
       "      <td>1</td>\n",
       "    </tr>\n",
       "    <tr>\n",
       "      <th>1793207</th>\n",
       "      <td>66</td>\n",
       "      <td>20095</td>\n",
       "      <td>563</td>\n",
       "      <td>31686</td>\n",
       "      <td>25604</td>\n",
       "      <td>590</td>\n",
       "      <td>27941</td>\n",
       "      <td>19203</td>\n",
       "      <td>6675</td>\n",
       "      <td>19343</td>\n",
       "      <td>...</td>\n",
       "      <td>1.142243</td>\n",
       "      <td>0.571121</td>\n",
       "      <td>0.115692</td>\n",
       "      <td>1.156922</td>\n",
       "      <td>0.269948</td>\n",
       "      <td>0.0</td>\n",
       "      <td>0.0</td>\n",
       "      <td>0.0</td>\n",
       "      <td>1</td>\n",
       "      <td>0</td>\n",
       "    </tr>\n",
       "    <tr>\n",
       "      <th>2909751</th>\n",
       "      <td>66</td>\n",
       "      <td>26325</td>\n",
       "      <td>22294</td>\n",
       "      <td>9018</td>\n",
       "      <td>21545</td>\n",
       "      <td>10273</td>\n",
       "      <td>27941</td>\n",
       "      <td>21621</td>\n",
       "      <td>6675</td>\n",
       "      <td>22970</td>\n",
       "      <td>...</td>\n",
       "      <td>0.571121</td>\n",
       "      <td>0.000000</td>\n",
       "      <td>0.000000</td>\n",
       "      <td>1.156922</td>\n",
       "      <td>0.115692</td>\n",
       "      <td>0.0</td>\n",
       "      <td>0.0</td>\n",
       "      <td>0.0</td>\n",
       "      <td>0</td>\n",
       "      <td>1</td>\n",
       "    </tr>\n",
       "    <tr>\n",
       "      <th>2612416</th>\n",
       "      <td>66</td>\n",
       "      <td>20095</td>\n",
       "      <td>563</td>\n",
       "      <td>31686</td>\n",
       "      <td>15908</td>\n",
       "      <td>590</td>\n",
       "      <td>27941</td>\n",
       "      <td>18800</td>\n",
       "      <td>6675</td>\n",
       "      <td>22970</td>\n",
       "      <td>...</td>\n",
       "      <td>1.713364</td>\n",
       "      <td>0.000000</td>\n",
       "      <td>0.077128</td>\n",
       "      <td>1.156922</td>\n",
       "      <td>0.269948</td>\n",
       "      <td>0.0</td>\n",
       "      <td>0.0</td>\n",
       "      <td>0.0</td>\n",
       "      <td>0</td>\n",
       "      <td>0</td>\n",
       "    </tr>\n",
       "  </tbody>\n",
       "</table>\n",
       "<p>5 rows × 81 columns</p>\n",
       "</div>"
      ],
      "text/plain": [
       "         f_1    f_2    f_3    f_4    f_5    f_6    f_7    f_8   f_9   f_10  \\\n",
       "1124686   66  11077   7779  18575  21545  13503  27941  19606  6675  19343   \n",
       "1655937   66  15471  22294  26278  25604  26291  27941  19203  6675  22970   \n",
       "1793207   66  20095    563  31686  25604    590  27941  19203  6675  19343   \n",
       "2909751   66  26325  22294   9018  21545  10273  27941  21621  6675  22970   \n",
       "2612416   66  20095    563  31686  15908    590  27941  18800  6675  22970   \n",
       "\n",
       "         ...      f_72      f_73      f_74      f_75      f_76  f_77  f_78  \\\n",
       "1124686  ...  0.000000  0.000000  0.115692  1.156922  0.269948   0.0   0.0   \n",
       "1655937  ...  0.000000  0.000000  0.000000  1.156922  0.154256   0.0   0.0   \n",
       "1793207  ...  1.142243  0.571121  0.115692  1.156922  0.269948   0.0   0.0   \n",
       "2909751  ...  0.571121  0.000000  0.000000  1.156922  0.115692   0.0   0.0   \n",
       "2612416  ...  1.713364  0.000000  0.077128  1.156922  0.269948   0.0   0.0   \n",
       "\n",
       "         f_79  is_clicked  is_installed  \n",
       "1124686   0.0           0             0  \n",
       "1655937   0.0           1             1  \n",
       "1793207   0.0           1             0  \n",
       "2909751   0.0           0             1  \n",
       "2612416   0.0           0             0  \n",
       "\n",
       "[5 rows x 81 columns]"
      ]
     },
     "execution_count": 11,
     "metadata": {},
     "output_type": "execute_result"
    }
   ],
   "source": [
    "val_df.sample(5)"
   ]
  },
  {
   "cell_type": "code",
   "execution_count": 12,
   "metadata": {},
   "outputs": [],
   "source": [
    "trn_df.to_csv(trn_data_pth, sep='\\t', index=False)\n",
    "val_df.to_csv(val_data_pth, sep='\\t', index=False)"
   ]
  },
  {
   "cell_type": "code",
   "execution_count": 13,
   "metadata": {},
   "outputs": [
    {
     "name": "stdout",
     "output_type": "stream",
     "text": [
      "(3387880, 81) (97972, 81)\n"
     ]
    }
   ],
   "source": [
    "print(trn_df.shape, val_df.shape)"
   ]
  },
  {
   "cell_type": "code",
   "execution_count": 14,
   "metadata": {},
   "outputs": [
    {
     "data": {
      "text/plain": [
       "0"
      ]
     },
     "execution_count": 14,
     "metadata": {},
     "output_type": "execute_result"
    }
   ],
   "source": [
    "os.system(f'(cat {trn_data_pth} && sed 1d {val_data_pth}) | cat > {saved_data_pth}')"
   ]
  },
  {
   "cell_type": "code",
   "execution_count": 16,
   "metadata": {},
   "outputs": [
    {
     "name": "stdout",
     "output_type": "stream",
     "text": [
      "f_2:token, f_3:token, f_4:token, f_5:token, f_6:token, f_7:token, f_8:token, f_9:token, f_10:token, f_11:token, f_12:token, f_13:token, f_14:token, f_15:token, f_16:token, f_17:token, f_18:token, f_19:token, f_20:token, f_21:token, f_22:token, f_23:token, f_24:token, f_25:token, f_26:token, f_27:token, f_28:token, f_29:token, f_30:token, f_31:token, f_32:token, f_33:token, f_34:token, f_35:token, f_36:token, f_37:token, f_38:token, f_39:token, f_40:token, f_41:token, f_42:float, f_43:float, f_44:float, f_45:float, f_46:float, f_47:float, f_48:float, f_49:float, f_50:float, f_51:float, f_52:float, f_53:float, f_54:float, f_55:float, f_56:float, f_57:float, f_58:float, f_59:float, f_60:float, f_61:float, f_62:float, f_63:float, f_64:float, f_65:float, f_66:float, f_67:float, f_68:float, f_69:float, f_70:float, f_71:float, f_72:float, f_73:float, f_74:float, f_75:float, f_76:float, f_77:float, f_78:float, f_79:float, \n"
     ]
    }
   ],
   "source": [
    "s = ''\n",
    "for i in range(2, 42):\n",
    "    s += f'f_{i}:token, '\n",
    "for i in range(42, 80):\n",
    "    s += f'f_{i}:float, '\n",
    "print(s)"
   ]
  },
  {
   "cell_type": "code",
   "execution_count": 20,
   "metadata": {},
   "outputs": [],
   "source": [
    "click_saved_data_pth = '/root/data/xingmei/Sharechat-RecSys-Challenge-23/data/click_trn_val.csv'\n",
    "install_saved_data_pth = '/root/data/xingmei/Sharechat-RecSys-Challenge-23/data/install_task_trn_val.csv'"
   ]
  },
  {
   "cell_type": "code",
   "execution_count": 21,
   "metadata": {},
   "outputs": [
    {
     "data": {
      "text/plain": [
       "0"
      ]
     },
     "execution_count": 21,
     "metadata": {},
     "output_type": "execute_result"
    }
   ],
   "source": [
    "trn_df.drop(columns='is_clicked').to_csv('tmp1.csv', sep='\\t', index=False)\n",
    "val_df.drop(columns='is_clicked').to_csv('tmp2.csv', sep='\\t', index=False)\n",
    "os.system(f'(cat tmp1.csv && sed 1d tmp2.csv) | cat > {install_saved_data_pth}')"
   ]
  },
  {
   "cell_type": "code",
   "execution_count": 22,
   "metadata": {},
   "outputs": [
    {
     "data": {
      "text/plain": [
       "0"
      ]
     },
     "execution_count": 22,
     "metadata": {},
     "output_type": "execute_result"
    }
   ],
   "source": [
    "trn_df.drop(columns='is_installed').to_csv('tmp1.csv', sep='\\t', index=False)\n",
    "val_df.drop(columns='is_installed').to_csv('tmp2.csv', sep='\\t', index=False)\n",
    "os.system(f'(cat tmp1.csv && sed 1d tmp2.csv) | cat > {click_saved_data_pth}')"
   ]
  },
  {
   "cell_type": "code",
   "execution_count": 23,
   "metadata": {},
   "outputs": [
    {
     "data": {
      "text/plain": [
       "0"
      ]
     },
     "execution_count": 23,
     "metadata": {},
     "output_type": "execute_result"
    }
   ],
   "source": [
    "os.system('rm tmp*.csv')"
   ]
  }
 ],
 "metadata": {
  "kernelspec": {
   "display_name": "recsys",
   "language": "python",
   "name": "python3"
  },
  "language_info": {
   "codemirror_mode": {
    "name": "ipython",
    "version": 3
   },
   "file_extension": ".py",
   "mimetype": "text/x-python",
   "name": "python",
   "nbconvert_exporter": "python",
   "pygments_lexer": "ipython3",
   "version": "3.10.10"
  },
  "orig_nbformat": 4
 },
 "nbformat": 4,
 "nbformat_minor": 2
}
