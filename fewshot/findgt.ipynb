{
 "cells": [
  {
   "cell_type": "code",
   "execution_count": 1,
   "metadata": {},
   "outputs": [],
   "source": [
    "import pandas as pd\n",
    "\n",
    "df = pd.read_csv('/root/autodl-tmp/xingmei/RecSys23/data/simplified_trn_val_tst_with_weekday.csv', sep='\\t')"
   ]
  },
  {
   "cell_type": "code",
   "execution_count": 3,
   "metadata": {},
   "outputs": [],
   "source": [
    "tst_df = df[-160973:]"
   ]
  },
  {
   "cell_type": "code",
   "execution_count": 4,
   "metadata": {},
   "outputs": [
    {
     "data": {
      "text/html": [
       "<div>\n",
       "<style scoped>\n",
       "    .dataframe tbody tr th:only-of-type {\n",
       "        vertical-align: middle;\n",
       "    }\n",
       "\n",
       "    .dataframe tbody tr th {\n",
       "        vertical-align: top;\n",
       "    }\n",
       "\n",
       "    .dataframe thead th {\n",
       "        text-align: right;\n",
       "    }\n",
       "</style>\n",
       "<table border=\"1\" class=\"dataframe\">\n",
       "  <thead>\n",
       "    <tr style=\"text-align: right;\">\n",
       "      <th></th>\n",
       "      <th>weekday</th>\n",
       "      <th>f_1</th>\n",
       "      <th>f_2</th>\n",
       "      <th>f_3</th>\n",
       "      <th>f_4</th>\n",
       "      <th>f_5</th>\n",
       "      <th>f_6</th>\n",
       "      <th>f_8</th>\n",
       "      <th>f_9</th>\n",
       "      <th>f_10</th>\n",
       "      <th>...</th>\n",
       "      <th>f_72</th>\n",
       "      <th>f_73</th>\n",
       "      <th>f_74</th>\n",
       "      <th>f_75</th>\n",
       "      <th>f_76</th>\n",
       "      <th>f_77</th>\n",
       "      <th>f_78</th>\n",
       "      <th>f_79</th>\n",
       "      <th>is_clicked</th>\n",
       "      <th>is_installed</th>\n",
       "    </tr>\n",
       "  </thead>\n",
       "  <tbody>\n",
       "    <tr>\n",
       "      <th>3485852</th>\n",
       "      <td>2</td>\n",
       "      <td>67</td>\n",
       "      <td>26325</td>\n",
       "      <td>7152</td>\n",
       "      <td>21563</td>\n",
       "      <td>19475</td>\n",
       "      <td>31440</td>\n",
       "      <td>21621</td>\n",
       "      <td>14659</td>\n",
       "      <td>21574</td>\n",
       "      <td>...</td>\n",
       "      <td>0.000000</td>\n",
       "      <td>0.000000</td>\n",
       "      <td>0.000000</td>\n",
       "      <td>0.000000</td>\n",
       "      <td>0.000000</td>\n",
       "      <td>0.0</td>\n",
       "      <td>0.000000</td>\n",
       "      <td>0.000000</td>\n",
       "      <td>0</td>\n",
       "      <td>0</td>\n",
       "    </tr>\n",
       "    <tr>\n",
       "      <th>3485853</th>\n",
       "      <td>2</td>\n",
       "      <td>67</td>\n",
       "      <td>20095</td>\n",
       "      <td>563</td>\n",
       "      <td>22861</td>\n",
       "      <td>19475</td>\n",
       "      <td>21280</td>\n",
       "      <td>19203</td>\n",
       "      <td>14659</td>\n",
       "      <td>21574</td>\n",
       "      <td>...</td>\n",
       "      <td>0.000000</td>\n",
       "      <td>0.000000</td>\n",
       "      <td>0.115692</td>\n",
       "      <td>1.156922</td>\n",
       "      <td>0.269948</td>\n",
       "      <td>0.0</td>\n",
       "      <td>0.000000</td>\n",
       "      <td>0.000000</td>\n",
       "      <td>0</td>\n",
       "      <td>0</td>\n",
       "    </tr>\n",
       "    <tr>\n",
       "      <th>3485854</th>\n",
       "      <td>2</td>\n",
       "      <td>67</td>\n",
       "      <td>890</td>\n",
       "      <td>22294</td>\n",
       "      <td>18294</td>\n",
       "      <td>21545</td>\n",
       "      <td>20210</td>\n",
       "      <td>18800</td>\n",
       "      <td>9638</td>\n",
       "      <td>19343</td>\n",
       "      <td>...</td>\n",
       "      <td>0.000000</td>\n",
       "      <td>0.000000</td>\n",
       "      <td>0.000000</td>\n",
       "      <td>1.156922</td>\n",
       "      <td>0.269948</td>\n",
       "      <td>0.0</td>\n",
       "      <td>0.000000</td>\n",
       "      <td>0.000000</td>\n",
       "      <td>0</td>\n",
       "      <td>0</td>\n",
       "    </tr>\n",
       "    <tr>\n",
       "      <th>3485855</th>\n",
       "      <td>2</td>\n",
       "      <td>67</td>\n",
       "      <td>20095</td>\n",
       "      <td>563</td>\n",
       "      <td>22861</td>\n",
       "      <td>25604</td>\n",
       "      <td>21280</td>\n",
       "      <td>18800</td>\n",
       "      <td>14659</td>\n",
       "      <td>22970</td>\n",
       "      <td>...</td>\n",
       "      <td>2.284486</td>\n",
       "      <td>0.000000</td>\n",
       "      <td>0.000000</td>\n",
       "      <td>1.156922</td>\n",
       "      <td>0.269948</td>\n",
       "      <td>0.0</td>\n",
       "      <td>0.000000</td>\n",
       "      <td>0.000000</td>\n",
       "      <td>0</td>\n",
       "      <td>0</td>\n",
       "    </tr>\n",
       "    <tr>\n",
       "      <th>3485856</th>\n",
       "      <td>2</td>\n",
       "      <td>67</td>\n",
       "      <td>27426</td>\n",
       "      <td>22294</td>\n",
       "      <td>11338</td>\n",
       "      <td>19475</td>\n",
       "      <td>23855</td>\n",
       "      <td>21218</td>\n",
       "      <td>9638</td>\n",
       "      <td>21574</td>\n",
       "      <td>...</td>\n",
       "      <td>0.000000</td>\n",
       "      <td>0.000000</td>\n",
       "      <td>0.077128</td>\n",
       "      <td>0.077128</td>\n",
       "      <td>0.077128</td>\n",
       "      <td>0.0</td>\n",
       "      <td>0.000000</td>\n",
       "      <td>0.000000</td>\n",
       "      <td>0</td>\n",
       "      <td>0</td>\n",
       "    </tr>\n",
       "    <tr>\n",
       "      <th>...</th>\n",
       "      <td>...</td>\n",
       "      <td>...</td>\n",
       "      <td>...</td>\n",
       "      <td>...</td>\n",
       "      <td>...</td>\n",
       "      <td>...</td>\n",
       "      <td>...</td>\n",
       "      <td>...</td>\n",
       "      <td>...</td>\n",
       "      <td>...</td>\n",
       "      <td>...</td>\n",
       "      <td>...</td>\n",
       "      <td>...</td>\n",
       "      <td>...</td>\n",
       "      <td>...</td>\n",
       "      <td>...</td>\n",
       "      <td>...</td>\n",
       "      <td>...</td>\n",
       "      <td>...</td>\n",
       "      <td>...</td>\n",
       "      <td>...</td>\n",
       "    </tr>\n",
       "    <tr>\n",
       "      <th>3646820</th>\n",
       "      <td>2</td>\n",
       "      <td>67</td>\n",
       "      <td>26325</td>\n",
       "      <td>22294</td>\n",
       "      <td>4896</td>\n",
       "      <td>25604</td>\n",
       "      <td>23841</td>\n",
       "      <td>21218</td>\n",
       "      <td>14659</td>\n",
       "      <td>22970</td>\n",
       "      <td>...</td>\n",
       "      <td>0.000000</td>\n",
       "      <td>0.000000</td>\n",
       "      <td>0.115692</td>\n",
       "      <td>1.156922</td>\n",
       "      <td>0.269948</td>\n",
       "      <td>0.0</td>\n",
       "      <td>0.000000</td>\n",
       "      <td>0.000000</td>\n",
       "      <td>0</td>\n",
       "      <td>0</td>\n",
       "    </tr>\n",
       "    <tr>\n",
       "      <th>3646821</th>\n",
       "      <td>2</td>\n",
       "      <td>67</td>\n",
       "      <td>14963</td>\n",
       "      <td>22294</td>\n",
       "      <td>26466</td>\n",
       "      <td>21545</td>\n",
       "      <td>8488</td>\n",
       "      <td>19203</td>\n",
       "      <td>14659</td>\n",
       "      <td>22970</td>\n",
       "      <td>...</td>\n",
       "      <td>0.571121</td>\n",
       "      <td>0.571121</td>\n",
       "      <td>0.115692</td>\n",
       "      <td>1.156922</td>\n",
       "      <td>0.269948</td>\n",
       "      <td>0.0</td>\n",
       "      <td>37.384575</td>\n",
       "      <td>37.384575</td>\n",
       "      <td>0</td>\n",
       "      <td>0</td>\n",
       "    </tr>\n",
       "    <tr>\n",
       "      <th>3646822</th>\n",
       "      <td>2</td>\n",
       "      <td>67</td>\n",
       "      <td>20095</td>\n",
       "      <td>563</td>\n",
       "      <td>31686</td>\n",
       "      <td>21545</td>\n",
       "      <td>590</td>\n",
       "      <td>21218</td>\n",
       "      <td>14659</td>\n",
       "      <td>22970</td>\n",
       "      <td>...</td>\n",
       "      <td>2.284486</td>\n",
       "      <td>1.142243</td>\n",
       "      <td>0.115692</td>\n",
       "      <td>1.156922</td>\n",
       "      <td>0.269948</td>\n",
       "      <td>0.0</td>\n",
       "      <td>37.384575</td>\n",
       "      <td>0.000000</td>\n",
       "      <td>0</td>\n",
       "      <td>0</td>\n",
       "    </tr>\n",
       "    <tr>\n",
       "      <th>3646823</th>\n",
       "      <td>2</td>\n",
       "      <td>67</td>\n",
       "      <td>890</td>\n",
       "      <td>7152</td>\n",
       "      <td>497</td>\n",
       "      <td>21545</td>\n",
       "      <td>876</td>\n",
       "      <td>19606</td>\n",
       "      <td>14659</td>\n",
       "      <td>19343</td>\n",
       "      <td>...</td>\n",
       "      <td>0.571121</td>\n",
       "      <td>0.000000</td>\n",
       "      <td>0.000000</td>\n",
       "      <td>1.156922</td>\n",
       "      <td>0.269948</td>\n",
       "      <td>0.0</td>\n",
       "      <td>0.000000</td>\n",
       "      <td>0.000000</td>\n",
       "      <td>0</td>\n",
       "      <td>0</td>\n",
       "    </tr>\n",
       "    <tr>\n",
       "      <th>3646824</th>\n",
       "      <td>2</td>\n",
       "      <td>67</td>\n",
       "      <td>27426</td>\n",
       "      <td>7152</td>\n",
       "      <td>3786</td>\n",
       "      <td>21545</td>\n",
       "      <td>29871</td>\n",
       "      <td>18800</td>\n",
       "      <td>14659</td>\n",
       "      <td>19343</td>\n",
       "      <td>...</td>\n",
       "      <td>0.000000</td>\n",
       "      <td>0.000000</td>\n",
       "      <td>0.115692</td>\n",
       "      <td>1.156922</td>\n",
       "      <td>0.269948</td>\n",
       "      <td>0.0</td>\n",
       "      <td>0.000000</td>\n",
       "      <td>0.000000</td>\n",
       "      <td>0</td>\n",
       "      <td>0</td>\n",
       "    </tr>\n",
       "  </tbody>\n",
       "</table>\n",
       "<p>160973 rows × 78 columns</p>\n",
       "</div>"
      ],
      "text/plain": [
       "         weekday  f_1    f_2    f_3    f_4    f_5    f_6    f_8    f_9   f_10   \n",
       "3485852        2   67  26325   7152  21563  19475  31440  21621  14659  21574  \\\n",
       "3485853        2   67  20095    563  22861  19475  21280  19203  14659  21574   \n",
       "3485854        2   67    890  22294  18294  21545  20210  18800   9638  19343   \n",
       "3485855        2   67  20095    563  22861  25604  21280  18800  14659  22970   \n",
       "3485856        2   67  27426  22294  11338  19475  23855  21218   9638  21574   \n",
       "...          ...  ...    ...    ...    ...    ...    ...    ...    ...    ...   \n",
       "3646820        2   67  26325  22294   4896  25604  23841  21218  14659  22970   \n",
       "3646821        2   67  14963  22294  26466  21545   8488  19203  14659  22970   \n",
       "3646822        2   67  20095    563  31686  21545    590  21218  14659  22970   \n",
       "3646823        2   67    890   7152    497  21545    876  19606  14659  19343   \n",
       "3646824        2   67  27426   7152   3786  21545  29871  18800  14659  19343   \n",
       "\n",
       "         ...      f_72      f_73      f_74      f_75      f_76  f_77   \n",
       "3485852  ...  0.000000  0.000000  0.000000  0.000000  0.000000   0.0  \\\n",
       "3485853  ...  0.000000  0.000000  0.115692  1.156922  0.269948   0.0   \n",
       "3485854  ...  0.000000  0.000000  0.000000  1.156922  0.269948   0.0   \n",
       "3485855  ...  2.284486  0.000000  0.000000  1.156922  0.269948   0.0   \n",
       "3485856  ...  0.000000  0.000000  0.077128  0.077128  0.077128   0.0   \n",
       "...      ...       ...       ...       ...       ...       ...   ...   \n",
       "3646820  ...  0.000000  0.000000  0.115692  1.156922  0.269948   0.0   \n",
       "3646821  ...  0.571121  0.571121  0.115692  1.156922  0.269948   0.0   \n",
       "3646822  ...  2.284486  1.142243  0.115692  1.156922  0.269948   0.0   \n",
       "3646823  ...  0.571121  0.000000  0.000000  1.156922  0.269948   0.0   \n",
       "3646824  ...  0.000000  0.000000  0.115692  1.156922  0.269948   0.0   \n",
       "\n",
       "              f_78       f_79  is_clicked  is_installed  \n",
       "3485852   0.000000   0.000000           0             0  \n",
       "3485853   0.000000   0.000000           0             0  \n",
       "3485854   0.000000   0.000000           0             0  \n",
       "3485855   0.000000   0.000000           0             0  \n",
       "3485856   0.000000   0.000000           0             0  \n",
       "...            ...        ...         ...           ...  \n",
       "3646820   0.000000   0.000000           0             0  \n",
       "3646821  37.384575  37.384575           0             0  \n",
       "3646822  37.384575   0.000000           0             0  \n",
       "3646823   0.000000   0.000000           0             0  \n",
       "3646824   0.000000   0.000000           0             0  \n",
       "\n",
       "[160973 rows x 78 columns]"
      ]
     },
     "execution_count": 4,
     "metadata": {},
     "output_type": "execute_result"
    }
   ],
   "source": [
    "tst_df"
   ]
  },
  {
   "cell_type": "code",
   "execution_count": 8,
   "metadata": {},
   "outputs": [
    {
     "data": {
      "text/plain": [
       "weekday             2.0\n",
       "f_1                67.0\n",
       "f_2             26325.0\n",
       "f_3              7152.0\n",
       "f_4             21563.0\n",
       "                 ...   \n",
       "f_77                0.0\n",
       "f_78                0.0\n",
       "f_79                0.0\n",
       "is_clicked          0.0\n",
       "is_installed        0.0\n",
       "Name: 3485852, Length: 78, dtype: float64"
      ]
     },
     "execution_count": 8,
     "metadata": {},
     "output_type": "execute_result"
    }
   ],
   "source": [
    "tst_df.iloc[0]"
   ]
  },
  {
   "cell_type": "code",
   "execution_count": 11,
   "metadata": {},
   "outputs": [],
   "source": [
    "all_dup = df.duplicated()"
   ]
  },
  {
   "cell_type": "code",
   "execution_count": 29,
   "metadata": {},
   "outputs": [],
   "source": [
    "dup_idx = [i  for i in range(3485852) if all_dup[i]]"
   ]
  },
  {
   "cell_type": "code",
   "execution_count": null,
   "metadata": {},
   "outputs": [],
   "source": [
    "dup_58_59 = df.duplicated(subset=['f_58', 'f_59'])"
   ]
  },
  {
   "cell_type": "code",
   "execution_count": 33,
   "metadata": {},
   "outputs": [
    {
     "data": {
      "text/plain": [
       "3645014"
      ]
     },
     "execution_count": 33,
     "metadata": {},
     "output_type": "execute_result"
    }
   ],
   "source": [
    "dup_58_59.sum()"
   ]
  },
  {
   "cell_type": "code",
   "execution_count": 34,
   "metadata": {},
   "outputs": [
    {
     "data": {
      "text/plain": [
       "3645014"
      ]
     },
     "execution_count": 34,
     "metadata": {},
     "output_type": "execute_result"
    }
   ],
   "source": [
    "dup_58_59_68 = df.duplicated(subset=['f_58', 'f_59', 'f_68'])\n",
    "dup_58_59_68.sum()"
   ]
  },
  {
   "cell_type": "code",
   "execution_count": 35,
   "metadata": {},
   "outputs": [
    {
     "data": {
      "text/plain": [
       "3601621"
      ]
     },
     "execution_count": 35,
     "metadata": {},
     "output_type": "execute_result"
    }
   ],
   "source": [
    "dup_2_6_58_59_68 = df.duplicated(subset=['f_2', 'f_6', 'f_58', 'f_59', 'f_68'])\n",
    "dup_2_6_58_59_68.sum()"
   ]
  },
  {
   "cell_type": "code",
   "execution_count": 36,
   "metadata": {},
   "outputs": [
    {
     "data": {
      "text/plain": [
       "2672015"
      ]
     },
     "execution_count": 36,
     "metadata": {},
     "output_type": "execute_result"
    }
   ],
   "source": [
    "dup_2_3_4_6_8_10_11_58_59_68 = df.duplicated(subset=['f_2', 'f_3', 'f_4', 'f_6', 'f_8', 'f_10', 'f_11', 'f_58', 'f_59', 'f_68'])\n",
    "dup_2_3_4_6_8_10_11_58_59_68.sum()"
   ]
  },
  {
   "cell_type": "code",
   "execution_count": null,
   "metadata": {},
   "outputs": [],
   "source": [
    "dup_idx_2_3_4_6_8_10_11_58_59_68 = [i  for i in range(3485852) if dup_2_3_4_6_8_10_11_58_59_68[i]]"
   ]
  },
  {
   "cell_type": "code",
   "execution_count": 45,
   "metadata": {},
   "outputs": [
    {
     "name": "stdout",
     "output_type": "stream",
     "text": [
      "2313855\n",
      "3484294\n"
     ]
    }
   ],
   "source": [
    "dup_2_3_4_6_8_10_11_12_19_20_58_59_68 = df.duplicated(subset=['f_2', 'f_3', 'f_4', 'f_6', 'f_8', 'f_10', 'f_11', 'f_12', 'f_19', 'f_20', 'f_58', 'f_59', 'f_68'])\n",
    "print(dup_2_3_4_6_8_10_11_12_19_20_58_59_68.sum())\n",
    "dup_idx_2_3_4_6_8_10_11_12_19_20_58_59_68 = [i  for i in range(3485852) if dup_2_3_4_6_8_10_11_12_19_20_58_59_68[i]]\n",
    "print(dup_idx_2_3_4_6_8_10_11_12_19_20_58_59_68[-1000])"
   ]
  },
  {
   "cell_type": "code",
   "execution_count": 61,
   "metadata": {},
   "outputs": [
    {
     "name": "stdout",
     "output_type": "stream",
     "text": [
      "2672015 2556356 111446\n",
      "4213\n"
     ]
    }
   ],
   "source": [
    "# subset = [\n",
    "#         'weekday',\n",
    "#         'f_2', 'f_3', 'f_4', 'f_6', 'f_8', 'f_9', 'f_10', \n",
    "#         'f_11', 'f_12', 'f_18', 'f_19', \n",
    "#         'f_20', \n",
    "#         'f_30', 'f_31', 'f_33', 'f_34', 'f_35', 'f_37', 'f_38', 'f_39', \n",
    "#         'f_40', 'f_41', 'f_43', 'f_44', 'f_45', 'f_46', 'f_47', 'f_48', 'f_49',\n",
    "#         'f_50', 'f_58', 'f_59', \n",
    "#         'f_66', 'f_68', 'f_69', \n",
    "#         'f_70', 'f_1', 'f_72', 'f_73', 'f_75', 'f_76', 'f_77', 'f_78', 'f_79'\n",
    "#     ]\n",
    "subset = ['f_2', 'f_3', 'f_4', 'f_6', 'f_8', 'f_10', 'f_11', 'f_58', 'f_59', 'f_68']\n",
    "all = df.duplicated(subset=subset)\n",
    "trn = df[:3485852].copy()\n",
    "trn.reset_index(inplace=True)\n",
    "trn = trn.duplicated(subset=subset)\n",
    "\n",
    "tst = df[3485852:].copy()\n",
    "tst.reset_index(inplace=True)\n",
    "tst = tst.duplicated(subset=subset)\n",
    "print(all.sum(), trn.sum(), tst.sum())\n",
    "print(all.sum()-trn.sum()-tst.sum())"
   ]
  }
 ],
 "metadata": {
  "kernelspec": {
   "display_name": "recstudio",
   "language": "python",
   "name": "python3"
  },
  "language_info": {
   "codemirror_mode": {
    "name": "ipython",
    "version": 3
   },
   "file_extension": ".py",
   "mimetype": "text/x-python",
   "name": "python",
   "nbconvert_exporter": "python",
   "pygments_lexer": "ipython3",
   "version": "3.11.3"
  },
  "orig_nbformat": 4
 },
 "nbformat": 4,
 "nbformat_minor": 2
}
