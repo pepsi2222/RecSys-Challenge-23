{
 "cells": [
  {
   "cell_type": "code",
   "execution_count": null,
   "metadata": {},
   "outputs": [],
   "source": [
    "import pandas as pd\n",
    "\n",
    "df = pd .read_csv(\"/root/autodl-tmp/xingmei/RecSys23/predictions/XGBoost/2023-06-20-13-15-54is_installed.csv\", sep='\\t')\n",
    "pd.DataFrame({\n",
    "    'RowId': pd.read_csv('/root/autodl-tmp/yankai/data/data/tst_rowid.csv')['f_0'].to_list(), \n",
    "    'is_clicked': 0, \n",
    "    'is_installed': df['is_installed_prob'][-160973:]\n",
    "}).to_csv(f'./predictions/xgb_best.csv', sep='\\t', index=False)"
   ]
  },
  {
   "cell_type": "code",
   "execution_count": 5,
   "metadata": {},
   "outputs": [],
   "source": [
    "def commit(pth, name):\n",
    "    df = pd.read_csv(pth, sep='\\t')\n",
    "    pd.DataFrame({\n",
    "        'RowId': pd.read_csv('/data2/home/xingmei/RecSys23/data/tst_rowid.csv')['f_0'].to_list(), \n",
    "        'is_clicked': 0, \n",
    "        'is_installed': df['is_installed_prob'][-160973:]\n",
    "    }).to_csv(f'./predictions/{name}.csv', sep='\\t', index=False)"
   ]
  },
  {
   "cell_type": "code",
   "execution_count": 12,
   "metadata": {},
   "outputs": [],
   "source": [
    "commit(\"/root/autodl-tmp/xingmei/RecSys23/predictions/LR3/2023-06-21-21-23-59is_installed.csv\", 'lr3_all')  # 3447"
   ]
  },
  {
   "cell_type": "code",
   "execution_count": 13,
   "metadata": {},
   "outputs": [],
   "source": [
    "commit(\"/root/autodl-tmp/xingmei/RecSys23/predictions/LR3/2023-06-21-22-06-48is_installed.csv\", 'lr3_640')"
   ]
  },
  {
   "cell_type": "code",
   "execution_count": null,
   "metadata": {},
   "outputs": [],
   "source": [
    "commit(\"/root/autodl-tmp/xingmei/RecSys23/predictions/LR3/2023-06-21-22-39-42is_installed.csv\", 'lr3_650')"
   ]
  },
  {
   "cell_type": "code",
   "execution_count": 15,
   "metadata": {},
   "outputs": [],
   "source": [
    "commit(\"/root/autodl-tmp/xingmei/RecSys23/predictions/DeepCrossingSEnet/2023-06-22-00-31-21is_installed.csv\", 'deepcrossingsenet_3697')"
   ]
  },
  {
   "cell_type": "code",
   "execution_count": 16,
   "metadata": {},
   "outputs": [],
   "source": [
    "commit(\"/root/autodl-tmp/xingmei/RecSys23/predictions/DeepCrossingSEnet/2023-06-22-00-38-08is_installed.csv\", 'deepcrossingsenet_3704')"
   ]
  },
  {
   "cell_type": "code",
   "execution_count": null,
   "metadata": {},
   "outputs": [],
   "source": [
    "commit(\"/root/autodl-tmp/xingmei/RecSys23/predictions/WideDeepSEnet/2023-06-22-00-49-24is_installed.csv\", 'widedeepsenet_3752')"
   ]
  },
  {
   "cell_type": "code",
   "execution_count": 6,
   "metadata": {},
   "outputs": [],
   "source": [
    "commit(\"/data2/home/xingmei/RecSys23/predictions/PPNet/2023-06-22-21-18-00is_installed.csv\", 'ppnet_3668')"
   ]
  },
  {
   "cell_type": "code",
   "execution_count": 7,
   "metadata": {},
   "outputs": [],
   "source": [
    "commit(\"/data2/home/xingmei/RecSys23/predictions/PPNet/2023-06-22-22-02-56is_installed.csv\", 'ppnet_f6_3684')"
   ]
  },
  {
   "cell_type": "code",
   "execution_count": null,
   "metadata": {},
   "outputs": [],
   "source": [
    "commit(\"/data2/home/xingmei/RecSys23/predictions/PPNet/2023-06-22-22-20-14is_installed.csv\", 'ppnet_f15_3681')"
   ]
  },
  {
   "cell_type": "code",
   "execution_count": 9,
   "metadata": {},
   "outputs": [],
   "source": [
    "commit(\"/data2/home/xingmei/RecSys23/predictions/PPNet/2023-06-23-00-59-01is_installed.csv\", 'ppnet_standard_3756')"
   ]
  },
  {
   "cell_type": "code",
   "execution_count": null,
   "metadata": {},
   "outputs": [],
   "source": [
    "commit(\"/data2/home/xingmei/RecSys23/predictions/PPNet/2023-06-23-00-59-44is_installed.csv\", 'ppnet_standard_3775')"
   ]
  },
  {
   "cell_type": "code",
   "execution_count": 11,
   "metadata": {},
   "outputs": [],
   "source": [
    "commit(\"/data2/home/xingmei/RecSys23/predictions/HardSharePPNet/2023-06-23-01-58-28['is_clicked', 'is_installed'].csv\", 'hardsharedpnet_3686')"
   ]
  },
  {
   "cell_type": "code",
   "execution_count": 12,
   "metadata": {},
   "outputs": [],
   "source": [
    "commit(\"./predictions/HardSharePPNet/2023-06-23-02-24-05['is_clicked', 'is_installed'].csv\", 'hardshareppnet_3828')"
   ]
  },
  {
   "cell_type": "code",
   "execution_count": 13,
   "metadata": {},
   "outputs": [],
   "source": [
    "commit(\"./predictions/HardSharePPNet/2023-06-23-02-27-47['is_clicked', 'is_installed'].csv\", 'hardshareppnet_3725')"
   ]
  },
  {
   "cell_type": "code",
   "execution_count": 14,
   "metadata": {},
   "outputs": [],
   "source": [
    "commit(\"./predictions/HardSharePPNet/2023-06-23-02-28-10['is_clicked', 'is_installed'].csv\", 'hardshareppnet_3733')"
   ]
  },
  {
   "cell_type": "code",
   "execution_count": 15,
   "metadata": {},
   "outputs": [],
   "source": [
    "commit(\"./predictions/HardSharePPNet/2023-06-23-02-28-58['is_clicked', 'is_installed'].csv\", 'hardshareppnet_3863')"
   ]
  },
  {
   "cell_type": "code",
   "execution_count": 16,
   "metadata": {},
   "outputs": [],
   "source": [
    "commit(\"./predictions/HardSharePPNetSEnet/2023-06-23-02-35-02['is_clicked', 'is_installed'].csv\", 'hardshareppnetsenet_3826')"
   ]
  },
  {
   "cell_type": "code",
   "execution_count": 17,
   "metadata": {},
   "outputs": [],
   "source": [
    "commit(\"./predictions/HardSharePPNet/2023-06-23-02-36-28['is_clicked', 'is_installed'].csv\", 'hardshareppnet_3706')"
   ]
  },
  {
   "cell_type": "code",
   "execution_count": 18,
   "metadata": {},
   "outputs": [],
   "source": [
    "commit(\"./predictions/HardSharePPNetSEnet/2023-06-23-02-40-39['is_clicked', 'is_installed'].csv\", 'hsppnetsenet_3797')"
   ]
  },
  {
   "cell_type": "code",
   "execution_count": 19,
   "metadata": {},
   "outputs": [],
   "source": [
    "commit(\"./predictions/HardSharePPNet/2023-06-23-03-00-03['is_clicked', 'is_installed'].csv\", 'hspp_3777')"
   ]
  },
  {
   "cell_type": "code",
   "execution_count": null,
   "metadata": {},
   "outputs": [],
   "source": [
    "commit(\"./predictions/HardSharePPNet/2023-06-23-03-11-17['is_clicked', 'is_installed'].csv\", 'pp_3848')"
   ]
  }
 ],
 "metadata": {
  "kernelspec": {
   "display_name": "recsys",
   "language": "python",
   "name": "python3"
  },
  "language_info": {
   "codemirror_mode": {
    "name": "ipython",
    "version": 3
   },
   "file_extension": ".py",
   "mimetype": "text/x-python",
   "name": "python",
   "nbconvert_exporter": "python",
   "pygments_lexer": "ipython3",
   "version": "3.11.3"
  },
  "orig_nbformat": 4
 },
 "nbformat": 4,
 "nbformat_minor": 2
}
