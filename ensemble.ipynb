{
 "cells": [
  {
   "cell_type": "code",
   "execution_count": null,
   "metadata": {},
   "outputs": [],
   "source": [
    "import pandas as pd\n",
    "import numpy as np\n",
    "\n",
    "pred_path = [\n",
    "    \"./predictions/DCNv2/2023-06-21-00-28-24is_installed.csv\",\n",
    "    \"./predictions/HardShareSEnet/2023-06-21-22-59-11['is_clicked', 'is_installed'].csv\",\n",
    "    \"./predictions/PLE/2023-06-19-11-52-21['is_clicked', 'is_installed'].csv\",\n",
    "    \"./predictions/PLEMLPSEnet/2023-06-21-22-32-26['is_clicked', 'is_installed'].csv\",\n",
    "    \"./predictions/PLESEnet/2023-06-21-22-24-10['is_clicked', 'is_installed'].csv\",\n",
    "]\n",
    "df = {}\n",
    "for i, pth in enumerate(pred_path):\n",
    "    tmp = pd.read_csv(pth, sep='\\t')\n",
    "    df[i] = tmp['is_installed_prob']\n",
    "    \n",
    "df = pd.DataFrame(df)\n",
    "\n",
    "final_pred = pd.DataFrame({\n",
    "    'RowId': pd.read_csv('./data/tst_rowid.csv')['f_0'].to_list(), \n",
    "    'is_clicked': 0, \n",
    "    'is_installed': np.sort(df[-160973:].copy(), axis=1)[:, 1:-1].mean(axis=1)\n",
    "})\n",
    "final_pred.to_csv(f'./predictions/prediction.csv', sep='\\t', index=False)"
   ]
  }
 ],
 "metadata": {
  "language_info": {
   "name": "python"
  },
  "orig_nbformat": 4
 },
 "nbformat": 4,
 "nbformat_minor": 2
}
