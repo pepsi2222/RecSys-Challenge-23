{
 "cells": [
  {
   "cell_type": "code",
   "execution_count": null,
   "metadata": {},
   "outputs": [],
   "source": [
    "import pandas as pd\n",
    "import numpy as np\n",
    "\n",
    "df = pd.read_csv(..., sep='\\t')\n",
    "\n",
    "pd.DataFrame({\n",
    "    'RowId': pd.read_csv('tst_rowid.csv')['f_0'].to_list(), \n",
    "    'is_clicked': 0, \n",
    "    'is_installed': np.sort(df[-160973:].copy(), axis=1)[:, 1:-1].mean(axis=1)\n",
    "}).to_csv(f'./predictions/prediction.csv', sep='\\t', index=False)"
   ]
  }
 ],
 "metadata": {
  "language_info": {
   "name": "python"
  },
  "orig_nbformat": 4
 },
 "nbformat": 4,
 "nbformat_minor": 2
}
