{
 "cells": [
  {
   "cell_type": "code",
   "execution_count": 8,
   "metadata": {},
   "outputs": [],
   "source": [
    "import pandas as pd\n",
    "def add_weekday(path, save_path):\n",
    "    df = pd.read_csv(path, sep='\\t')\n",
    "    df['weekday'] = df['f_1'].map(lambda x: 1 if x in [45, 52, 59, 66] else \n",
    "                                        2 if x in [46, 53, 60, 67] else\n",
    "                                        3 if x in [47, 54, 61] else\n",
    "                                        4 if x in [48, 55, 62] else\n",
    "                                        5 if x in [49, 56, 63] else\n",
    "                                        6 if x in [50, 57, 64] else\n",
    "                                        7\n",
    "                            )\n",
    "    col = list(df.columns)\n",
    "    col.remove('weekday')\n",
    "    col = ['weekday'] + col\n",
    "    df = df[col]\n",
    "    df.to_csv(save_path, sep='\\t', index=False)"
   ]
  },
  {
   "cell_type": "code",
   "execution_count": 9,
   "metadata": {},
   "outputs": [],
   "source": [
    "add_weekday(\"/root/autodl-tmp/yankai/data/data/simplified_install_trn_val_tst.csv\", '/root/autodl-tmp/xingmei/RecSys23/data/simplified_install_trn_val_tst_with_weekday.csv')"
   ]
  },
  {
   "cell_type": "code",
   "execution_count": 10,
   "metadata": {},
   "outputs": [],
   "source": [
    "add_weekday(\"/root/autodl-tmp/yankai/data/data/simplified_install_sub_trn_val.csv\", '/root/autodl-tmp/xingmei/RecSys23/data/simplified_install_sub_trn_val_with_weekday.csv')"
   ]
  },
  {
   "cell_type": "code",
   "execution_count": 11,
   "metadata": {},
   "outputs": [],
   "source": [
    "add_weekday(\"/root/autodl-tmp/yankai/data/data/simplified_trn_val_tst.csv\", '/root/autodl-tmp/xingmei/RecSys23/data/simplified_trn_val_tst_with_weekday.csv')"
   ]
  },
  {
   "cell_type": "code",
   "execution_count": null,
   "metadata": {},
   "outputs": [],
   "source": [
    "add_weekday(\"/root/autodl-tmp/yankai/data/data/simplified_sub_trn_val.csv\", '/root/autodl-tmp/xingmei/RecSys23/data/simplified_sub_trn_val_with_weekday.csv')"
   ]
  }
 ],
 "metadata": {
  "kernelspec": {
   "display_name": "recstudio",
   "language": "python",
   "name": "python3"
  },
  "language_info": {
   "codemirror_mode": {
    "name": "ipython",
    "version": 3
   },
   "file_extension": ".py",
   "mimetype": "text/x-python",
   "name": "python",
   "nbconvert_exporter": "python",
   "pygments_lexer": "ipython3",
   "version": "3.11.3"
  },
  "orig_nbformat": 4
 },
 "nbformat": 4,
 "nbformat_minor": 2
}
