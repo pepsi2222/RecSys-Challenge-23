{
 "cells": [
  {
   "cell_type": "code",
   "execution_count": 1,
   "metadata": {},
   "outputs": [],
   "source": [
    "import os\n",
    "import pandas as pd\n",
    "dir = '/root/autodl-tmp/yankai/Sharechat-RecSys-Challenge-23/predictions'"
   ]
  },
  {
   "cell_type": "code",
   "execution_count": 4,
   "metadata": {},
   "outputs": [],
   "source": [
    "model = 'MaskNet'\n",
    "click_pth = '2023-05-05-02-05-10is_clicked.csv'\n",
    "install_pth = '2023-05-05-16-33-53is_installed.csv'"
   ]
  },
  {
   "cell_type": "code",
   "execution_count": 6,
   "metadata": {},
   "outputs": [],
   "source": [
    "# c_df = pd.read_csv(os.path.join(dir, model, click_pth), sep='\\t')\n",
    "# i_df = pd.read_csv(os.path.join(dir, model, install_pth), sep='\\t')"
   ]
  },
  {
   "cell_type": "code",
   "execution_count": 2,
   "metadata": {},
   "outputs": [],
   "source": [
    "click_pth='/root/autodl-tmp/xingmei/RecSysChallenge23/predictions/MaskNet/2023-05-06-15-16-13is_clicked.csv'\n",
    "install_pth='/root/autodl-tmp/xingmei/RecSysChallenge23/predictions/MaskNet/2023-05-06-14-56-11is_installed.csv'\n",
    "c_df = pd.read_csv(click_pth, sep='\\t')\n",
    "i_df = pd.read_csv(install_pth, sep='\\t')"
   ]
  },
  {
   "cell_type": "code",
   "execution_count": 4,
   "metadata": {},
   "outputs": [],
   "source": [
    "# save_dir = os.path.join('/root/autodl-tmp/xingmei/RecSysChallenge23/predictions', model)\n",
    "# if not os.path.exists(save_dir):\n",
    "#     os.makedirs(save_dir)\n",
    "    \n",
    "# c_df.merge(i_df).to_csv(\n",
    "#     os.path.join(save_dir, install_pth.replace('is_installed', '')),\n",
    "#     sep='\\t',\n",
    "#     index=False\n",
    "#     )"
   ]
  },
  {
   "cell_type": "code",
   "execution_count": 7,
   "metadata": {},
   "outputs": [],
   "source": [
    "save_dir = os.path.join('/root/autodl-tmp/xingmei/RecSysChallenge23/predictions', model)\n",
    "if not os.path.exists(save_dir):\n",
    "    os.makedirs(save_dir)\n",
    "    \n",
    "c_df.merge(i_df).to_csv(\n",
    "    install_pth.replace('is_installed', ''),\n",
    "    sep='\\t',\n",
    "    index=False\n",
    "    )"
   ]
  },
  {
   "cell_type": "code",
   "execution_count": null,
   "metadata": {},
   "outputs": [],
   "source": [
    "c_df.merge(i_df).to_csv(\n",
    "    '/root/autodl-tmp/xingmei/RecSysChallenge23/predictions/MaskNet/2023-05-06-14-56-11.csv',\n",
    "    sep='\\t',\n",
    "    index=False\n",
    "    )"
   ]
  }
 ],
 "metadata": {
  "kernelspec": {
   "display_name": "Python 3",
   "language": "python",
   "name": "python3"
  },
  "language_info": {
   "codemirror_mode": {
    "name": "ipython",
    "version": 3
   },
   "file_extension": ".py",
   "mimetype": "text/x-python",
   "name": "python",
   "nbconvert_exporter": "python",
   "pygments_lexer": "ipython3",
   "version": "3.9.13"
  },
  "orig_nbformat": 4
 },
 "nbformat": 4,
 "nbformat_minor": 2
}
