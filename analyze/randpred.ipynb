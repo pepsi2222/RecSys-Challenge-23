{
 "cells": [
  {
   "cell_type": "code",
   "execution_count": 5,
   "metadata": {},
   "outputs": [],
   "source": [
    "import pandas as pd\n",
    "import numpy as np\n"
   ]
  },
  {
   "cell_type": "code",
   "execution_count": 9,
   "metadata": {},
   "outputs": [],
   "source": [
    "tst_data_path = '/root/data/yankai/sharechat_recsys2023_data/test/000000000000.csv'\n",
    "tst_df = pd.read_csv(tst_data_path, sep='\\t')"
   ]
  },
  {
   "cell_type": "code",
   "execution_count": 11,
   "metadata": {},
   "outputs": [],
   "source": [
    "pred_clicked = np.random.choice([0, 1], size=len(tst_df), p=[0.5, 0.5])\n",
    "pred_clicked = pred_clicked.astype(np.int8)\n",
    "tst_df['pred_clicked'] = pred_clicked"
   ]
  },
  {
   "cell_type": "code",
   "execution_count": 12,
   "metadata": {},
   "outputs": [],
   "source": [
    "pred_installed = np.random.choice([0, 1], size=len(tst_df), p=[0.5, 0.5])\n",
    "pred_installed = pred_installed.astype(np.int8)\n",
    "tst_df['pred_installed'] = pred_installed"
   ]
  },
  {
   "cell_type": "code",
   "execution_count": 13,
   "metadata": {},
   "outputs": [],
   "source": [
    "tst_df.to_csv('/root/data/yankai/Sharechat-RecSys-Challenge-23/data/randpred.csv', index=False)"
   ]
  },
  {
   "cell_type": "code",
   "execution_count": 14,
   "metadata": {},
   "outputs": [],
   "source": [
    "pred_clicked = np.ones(len(tst_df), dtype=np.int8)\n",
    "pred_installed = np.ones(len(tst_df), dtype=np.int8)\n",
    "tst_df['pred_clicked'] = pred_clicked\n",
    "tst_df['pred_installed'] = pred_installed\n",
    "tst_df.to_csv('/root/data/yankai/Sharechat-RecSys-Challenge-23/data/pospred.csv', index=False)"
   ]
  },
  {
   "cell_type": "code",
   "execution_count": 15,
   "metadata": {},
   "outputs": [],
   "source": [
    "pred_clicked =  np.zeros(len(tst_df), dtype=np.int8)\n",
    "pred_installed = np.zeros(len(tst_df), dtype=np.int8)\n",
    "tst_df['pred_clicked'] = pred_clicked\n",
    "tst_df['pred_installed'] = pred_installed\n",
    "tst_df.to_csv('/root/data/yankai/Sharechat-RecSys-Challenge-23/data/negpred.csv', index=False)"
   ]
  }
 ],
 "metadata": {
  "kernelspec": {
   "display_name": "RecSys",
   "language": "python",
   "name": "python3"
  },
  "language_info": {
   "codemirror_mode": {
    "name": "ipython",
    "version": 3
   },
   "file_extension": ".py",
   "mimetype": "text/x-python",
   "name": "python",
   "nbconvert_exporter": "python",
   "pygments_lexer": "ipython3",
   "version": "3.9.16"
  },
  "orig_nbformat": 4
 },
 "nbformat": 4,
 "nbformat_minor": 2
}
