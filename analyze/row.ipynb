{
 "cells": [
  {
   "cell_type": "code",
   "execution_count": 15,
   "metadata": {},
   "outputs": [],
   "source": [
    "import pandas as pd\n",
    "import numpy as np\n",
    "import os\n",
    "import matplotlib.pyplot as plt"
   ]
  },
  {
   "cell_type": "code",
   "execution_count": 16,
   "metadata": {},
   "outputs": [],
   "source": [
    "trn_data_path = '/root/autodl-tmp/xingmei/Sharechat-RecSys-Challenge-23/data/train.csv'\n",
    "tst_data_path = '/root/autodl-tmp/xingmei/Sharechat-RecSys-Challenge-23/raw_data/test/000000000000.csv'"
   ]
  },
  {
   "cell_type": "code",
   "execution_count": null,
   "metadata": {},
   "outputs": [],
   "source": [
    "trn_df = pd.read_csv(trn_data_path, sep='\\t')\n",
    "tst_df = pd.read_csv(tst_data_path, sep='\\t')"
   ]
  },
  {
   "cell_type": "code",
   "execution_count": 4,
   "metadata": {},
   "outputs": [],
   "source": [
    "trn_row_null = trn_df.isnull().sum(axis=1)\n",
    "tst_row_null = tst_df.isnull().sum(axis=1)"
   ]
  },
  {
   "cell_type": "code",
   "execution_count": 11,
   "metadata": {},
   "outputs": [
    {
     "data": {
      "image/png": "[encoded data removed]",
      "text/plain": [
       "<Figure size 640x480 with 1 Axes>"
      ]
     },
     "metadata": {},
     "output_type": "display_data"
    },
    {
     "name": "stdout",
     "output_type": "stream",
     "text": [
      "Train statistic - Mean: 1.53 | Median 2.00 | Min: 0.00 | Max 13.00\n",
      "Test  statistic - Mean: 1.21 | Median 0.00 | Min: 0.00 | Max 13.00\n"
     ]
    }
   ],
   "source": [
    "plt.hist([trn_row_null, tst_row_null], label=['train', 'test'], align='mid')\n",
    "plt.legend(loc='best')\n",
    "plt.xlabel('Nulls')\n",
    "plt.ylabel('Num')\n",
    "plt.savefig(f'./row_null.png')\n",
    "plt.show()\n",
    "plt.close()\n",
    "\n",
    "print(f\"Train statistic - \"\n",
    "        f\"Mean: {trn_row_null.mean():.2f} | Median {trn_row_null.median():.2f} | \"\n",
    "        f\"Min: {trn_row_null.min():.2f} | Max {trn_row_null.max():.2f}\"\n",
    "    )\n",
    "print(f\"Test  statistic - \"\n",
    "        f\"Mean: {tst_row_null.mean():.2f} | Median {tst_row_null.median():.2f} | \"\n",
    "        f\"Min: {tst_row_null.min():.2f} | Max {tst_row_null.max():.2f}\"\n",
    ")"
   ]
  },
  {
   "cell_type": "code",
   "execution_count": 16,
   "metadata": {},
   "outputs": [
    {
     "name": "stdout",
     "output_type": "stream",
     "text": [
      "[ 2  0 13 11]\n",
      "[ 2  0 11 13]\n"
     ]
    }
   ],
   "source": [
    "print(trn_row_null.unique())\n",
    "print(tst_row_null.unique())"
   ]
  },
  {
   "cell_type": "code",
   "execution_count": 14,
   "metadata": {},
   "outputs": [
    {
     "name": "stdout",
     "output_type": "stream",
     "text": [
      "train 0.50\n",
      "test 0.68\n",
      "train 0.45\n",
      "test 0.26\n",
      "train 0.03\n",
      "test 0.05\n",
      "train 0.03\n",
      "test 0.02\n"
     ]
    }
   ],
   "source": [
    "for i in [0, 2, 11, 13]:\n",
    "    for s, df in zip(['train', 'test'], [trn_row_null, tst_row_null]):\n",
    "        print(s, f'{(df == i).mean():.2f}')"
   ]
  },
  {
   "cell_type": "code",
   "execution_count": 17,
   "metadata": {},
   "outputs": [],
   "source": [
    "trn_col_null = trn_df.isnull().sum(axis=0)\n",
    "tst_col_null = tst_df.isnull().sum(axis=0)"
   ]
  },
  {
   "cell_type": "code",
   "execution_count": 21,
   "metadata": {},
   "outputs": [
    {
     "data": {
      "text/plain": [
       "f_30    1666968\n",
       "f_31    1666968\n",
       "f_43     181427\n",
       "f_51     181427\n",
       "f_58     181427\n",
       "f_59     181427\n",
       "f_64     181427\n",
       "f_65     181427\n",
       "f_66     181427\n",
       "f_67     181427\n",
       "f_68     181427\n",
       "f_69     181427\n",
       "f_70     181427\n",
       "dtype: int64"
      ]
     },
     "execution_count": 21,
     "metadata": {},
     "output_type": "execute_result"
    }
   ],
   "source": [
    "trn_col_null[trn_col_null != 0]"
   ]
  },
  {
   "cell_type": "code",
   "execution_count": 22,
   "metadata": {},
   "outputs": [
    {
     "data": {
      "text/plain": [
       "f_30    43867\n",
       "f_31    43867\n",
       "f_43     9767\n",
       "f_51     9767\n",
       "f_58     9767\n",
       "f_59     9767\n",
       "f_64     9767\n",
       "f_65     9767\n",
       "f_66     9767\n",
       "f_67     9767\n",
       "f_68     9767\n",
       "f_69     9767\n",
       "f_70     9767\n",
       "dtype: int64"
      ]
     },
     "execution_count": 22,
     "metadata": {},
     "output_type": "execute_result"
    }
   ],
   "source": [
    "tst_col_null[tst_col_null != 0]"
   ]
  },
  {
   "cell_type": "code",
   "execution_count": 34,
   "metadata": {},
   "outputs": [],
   "source": [
    "null_col = list(tst_col_null[tst_col_null != 0].index)"
   ]
  },
  {
   "cell_type": "code",
   "execution_count": 27,
   "metadata": {},
   "outputs": [
    {
     "data": {
      "text/plain": [
       "1666968"
      ]
     },
     "execution_count": 27,
     "metadata": {},
     "output_type": "execute_result"
    }
   ],
   "source": [
    "trn_df[trn_df['f_30'].isnull()]['f_31'].isnull().sum()"
   ]
  },
  {
   "cell_type": "code",
   "execution_count": 28,
   "metadata": {},
   "outputs": [
    {
     "data": {
      "text/plain": [
       "43867"
      ]
     },
     "execution_count": 28,
     "metadata": {},
     "output_type": "execute_result"
    }
   ],
   "source": [
    "tst_df[tst_df['f_30'].isnull()]['f_31'].isnull().sum()"
   ]
  },
  {
   "cell_type": "code",
   "execution_count": 36,
   "metadata": {},
   "outputs": [
    {
     "data": {
      "text/plain": [
       "f_30    False\n",
       "f_31    False\n",
       "f_43     True\n",
       "f_51     True\n",
       "f_58     True\n",
       "f_59     True\n",
       "f_64     True\n",
       "f_65     True\n",
       "f_66     True\n",
       "f_67     True\n",
       "f_68     True\n",
       "f_69     True\n",
       "f_70     True\n",
       "dtype: bool"
      ]
     },
     "execution_count": 36,
     "metadata": {},
     "output_type": "execute_result"
    }
   ],
   "source": [
    "trn_df[trn_df['f_43'].isnull()][null_col].isnull().all()"
   ]
  },
  {
   "cell_type": "code",
   "execution_count": 38,
   "metadata": {},
   "outputs": [
    {
     "data": {
      "text/plain": [
       "f_30    False\n",
       "f_31    False\n",
       "f_43     True\n",
       "f_51     True\n",
       "f_58     True\n",
       "f_59     True\n",
       "f_64     True\n",
       "f_65     True\n",
       "f_66     True\n",
       "f_67     True\n",
       "f_68     True\n",
       "f_69     True\n",
       "f_70     True\n",
       "dtype: bool"
      ]
     },
     "execution_count": 38,
     "metadata": {},
     "output_type": "execute_result"
    }
   ],
   "source": [
    "tst_df[tst_df['f_43'].isnull()][null_col].isnull().all()"
   ]
  }
 ],
 "metadata": {
  "kernelspec": {
   "display_name": "Python 3",
   "language": "python",
   "name": "python3"
  },
  "language_info": {
   "codemirror_mode": {
    "name": "ipython",
    "version": 3
   },
   "file_extension": ".py",
   "mimetype": "text/x-python",
   "name": "python",
   "nbconvert_exporter": "python",
   "pygments_lexer": "ipython3",
   "version": "3.9.13"
  },
  "orig_nbformat": 4
 },
 "nbformat": 4,
 "nbformat_minor": 2
}
