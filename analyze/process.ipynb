{
 "cells": [
  {
   "attachments": {},
   "cell_type": "markdown",
   "metadata": {},
   "source": [
    "## Delete Features\n",
    "- delete f7 (unique_num=1)\n",
    "- delete f27, f28, f29 (pearson corr=1 with f26)"
   ]
  },
  {
   "cell_type": "code",
   "execution_count": 4,
   "metadata": {},
   "outputs": [],
   "source": [
    "import os\n",
    "import pandas as pd\n",
    "import numpy as np\n",
    "\n",
    "data_dir = '/root/data01/xingmei/Sharechat-RecSys-Challenge-23/data/'\n",
    "raw_data_pth = ['train.csv', 'test.csv']\n",
    "customized_data_pth = ['customized_trn_val.csv']\n",
    "task_specific_data_pth = ['click_trn_val.csv', 'install_trn_val.csv']\n",
    "sub_task_specific_data_pth = ['click_sub_trn_val.csv', 'install_sub_trn_val.csv']"
   ]
  },
  {
   "cell_type": "code",
   "execution_count": 6,
   "metadata": {},
   "outputs": [],
   "source": [
    "cols_to_delete = ['f_7', 'f_27', 'f_28', 'f_29']\n",
    "for pth in raw_data_pth + customized_data_pth + task_specific_data_pth + sub_task_specific_data_pth:\n",
    "    df = pd.read_csv(os.path.join(data_dir, pth), sep='\\t', header=0)\n",
    "    df.drop(columns=cols_to_delete, inplace=True)\n",
    "    df.to_csv(os.path.join(data_dir, 'simplified_'+pth), sep='\\t', index=False)"
   ]
  },
  {
   "cell_type": "code",
   "execution_count": null,
   "metadata": {},
   "outputs": [],
   "source": [
    "sub_data_pth = '/root/data01/xingmei/Sharechat-RecSys-Challenge-23/data/sub_trn_val.csv'\n",
    "simplified_data_pth = '/root/data01/xingmei/Sharechat-RecSys-Challenge-23/data/simplified_sub_trn_val.csv'\n",
    "df = pd.read_csv(sub_data_pth, sep='\\t')\n",
    "df.drop(columns=['f_7', 'f_27', 'f_28', 'f_29']).to_csv(simplified_data_pth, sep='\\t', index=False)"
   ]
  },
  {
   "attachments": {},
   "cell_type": "markdown",
   "metadata": {},
   "source": [
    "## Concat csv"
   ]
  },
  {
   "cell_type": "code",
   "execution_count": 10,
   "metadata": {},
   "outputs": [],
   "source": [
    "tst_df = pd.read_csv(os.path.join(data_dir, 'simplified_test.csv'), sep='\\t', header=0)\n",
    "click_df = pd.read_csv(os.path.join(data_dir, 'simplified_click_trn_val.csv'), sep='\\t', header=0)\n",
    "install_df = pd.read_csv(os.path.join(data_dir, 'simplified_install_trn_val.csv'), sep='\\t', header=0)"
   ]
  },
  {
   "cell_type": "code",
   "execution_count": 13,
   "metadata": {},
   "outputs": [],
   "source": [
    "tst_df.drop(columns='f_0', inplace=True)\n",
    "click_tst_df = tst_df.copy()\n",
    "install_tst_df = tst_df.copy()\n",
    "click_tst_df['is_clicked'] = 0\n",
    "install_tst_df['is_installed'] = 0"
   ]
  },
  {
   "cell_type": "code",
   "execution_count": 15,
   "metadata": {},
   "outputs": [],
   "source": [
    "pd.concat([click_df, click_tst_df], axis=0).to_csv(\n",
    "    os.path.join(data_dir, 'simplified_click_trn_val_tst.csv'), sep='\\t', index=False)\n",
    "pd.concat([install_df, install_tst_df], axis=0).to_csv(\n",
    "    os.path.join(data_dir, 'simplified_install_trn_val_tst.csv'), sep='\\t', index=False)"
   ]
  }
 ],
 "metadata": {
  "kernelspec": {
   "display_name": "recsys",
   "language": "python",
   "name": "python3"
  },
  "language_info": {
   "codemirror_mode": {
    "name": "ipython",
    "version": 3
   },
   "file_extension": ".py",
   "mimetype": "text/x-python",
   "name": "python",
   "nbconvert_exporter": "python",
   "pygments_lexer": "ipython3",
   "version": "3.10.10"
  },
  "orig_nbformat": 4
 },
 "nbformat": 4,
 "nbformat_minor": 2
}
