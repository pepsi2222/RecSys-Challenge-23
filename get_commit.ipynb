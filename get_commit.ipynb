{
 "cells": [
  {
   "cell_type": "code",
   "execution_count": 7,
   "metadata": {},
   "outputs": [],
   "source": [
    "import pandas as pd\n",
    "\n",
    "df = pd .read_csv(\"/root/autodl-tmp/xingmei/RecSysChallenge23/predictions/LightGBM/2023-06-20-15-52-22is_installed.csv\", sep='\\t')\n",
    "pd.DataFrame({\n",
    "    'RowId': pd.read_csv('/root/autodl-tmp/xingmei/RecSysChallenge23/data/tst_rowid.csv')['f_0'].to_list(), \n",
    "    'is_clicked': 0, \n",
    "    'is_installed': df['is_installed_prob'][-160973:].map(lambda x: 0 if x < 0 else 1 if x > 1 else x) \n",
    "}).to_csv(f'./predictions/lgb_best.csv', sep='\\t', index=False)"
   ]
  },
  {
   "cell_type": "code",
   "execution_count": 8,
   "metadata": {},
   "outputs": [],
   "source": [
    "a = df['is_installed_prob'][-160973:].map(lambda x: 0 if x < 0 else 1 if x > 1 else x) "
   ]
  },
  {
   "cell_type": "code",
   "execution_count": 9,
   "metadata": {},
   "outputs": [],
   "source": [
    "pd.DataFrame({\n",
    "    'RowId': pd.read_csv('/root/autodl-tmp/xingmei/RecSysChallenge23/data/tst_rowid.csv')['f_0'].to_list(), \n",
    "    'is_clicked': 0, \n",
    "    'is_installed': a\n",
    "}).to_csv(f'./predictions/lgb_trn_val.csv', sep='\\t', index=False)"
   ]
  }
 ],
 "metadata": {
  "kernelspec": {
   "display_name": "recsys",
   "language": "python",
   "name": "python3"
  },
  "language_info": {
   "codemirror_mode": {
    "name": "ipython",
    "version": 3
   },
   "file_extension": ".py",
   "mimetype": "text/x-python",
   "name": "python",
   "nbconvert_exporter": "python",
   "pygments_lexer": "ipython3",
   "version": "3.9.13"
  },
  "orig_nbformat": 4
 },
 "nbformat": 4,
 "nbformat_minor": 2
}
