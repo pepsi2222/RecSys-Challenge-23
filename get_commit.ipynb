{
 "cells": [
  {
   "cell_type": "code",
   "execution_count": 1,
   "metadata": {},
   "outputs": [],
   "source": [
    "import pandas as pd\n",
    "\n",
    "ple_weight20 = pd .read_csv(\"/data2/home/xingmei/RecSys23/predictions/PLE/2023-06-19-12-51-01['is_clicked', 'is_installed'].csv\", sep='\\t')\n",
    "pd.DataFrame({\n",
    "    'RowId': pd.read_csv('/data2/home/xingmei/RecSys23/data/tst_rowid.csv')['f_0'].to_list(), \n",
    "    'is_clicked': 0, \n",
    "    'is_installed': ple_weight20['is_installed_prob'][-160973:]\n",
    "}).to_csv(f'./predictions/ple_weight_20.csv', sep='\\t', index=False)"
   ]
  }
 ],
 "metadata": {
  "kernelspec": {
   "display_name": "recsys",
   "language": "python",
   "name": "python3"
  },
  "language_info": {
   "codemirror_mode": {
    "name": "ipython",
    "version": 3
   },
   "file_extension": ".py",
   "mimetype": "text/x-python",
   "name": "python",
   "nbconvert_exporter": "python",
   "pygments_lexer": "ipython3",
   "version": "3.11.3"
  },
  "orig_nbformat": 4
 },
 "nbformat": 4,
 "nbformat_minor": 2
}
