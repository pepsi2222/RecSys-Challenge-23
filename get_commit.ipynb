{
 "cells": [
  {
   "cell_type": "code",
   "execution_count": 10,
   "metadata": {},
   "outputs": [],
   "source": [
    "import pandas as pd\n",
    "\n",
    "df = pd .read_csv(\"/root/autodl-tmp/xingmei/RecSys23/predictions/XGBoost/2023-06-20-13-15-54is_installed.csv\", sep='\\t')\n",
    "pd.DataFrame({\n",
    "    'RowId': pd.read_csv('/root/autodl-tmp/yankai/data/data/tst_rowid.csv')['f_0'].to_list(), \n",
    "    'is_clicked': 0, \n",
    "    'is_installed': df['is_installed_prob'][-160973:]\n",
    "}).to_csv(f'./predictions/xgb_best.csv', sep='\\t', index=False)"
   ]
  },
  {
   "cell_type": "code",
   "execution_count": 11,
   "metadata": {},
   "outputs": [],
   "source": [
    "def commit(pth, name):\n",
    "    df = pd .read_csv(pth, sep='\\t')\n",
    "    pd.DataFrame({\n",
    "        'RowId': pd.read_csv('/root/autodl-tmp/yankai/data/data/tst_rowid.csv')['f_0'].to_list(), \n",
    "        'is_clicked': 0, \n",
    "        'is_installed': df['is_installed_prob'][-160973:]\n",
    "    }).to_csv(f'./predictions/{name}.csv', sep='\\t', index=False)"
   ]
  },
  {
   "cell_type": "code",
   "execution_count": 12,
   "metadata": {},
   "outputs": [],
   "source": [
    "commit(\"/root/autodl-tmp/xingmei/RecSys23/predictions/LR3/2023-06-21-21-23-59is_installed.csv\", 'lr3_all')  # 3447"
   ]
  },
  {
   "cell_type": "code",
   "execution_count": 13,
   "metadata": {},
   "outputs": [],
   "source": [
    "commit(\"/root/autodl-tmp/xingmei/RecSys23/predictions/LR3/2023-06-21-22-06-48is_installed.csv\", 'lr3_640')"
   ]
  },
  {
   "cell_type": "code",
   "execution_count": null,
   "metadata": {},
   "outputs": [],
   "source": [
    "commit(\"/root/autodl-tmp/xingmei/RecSys23/predictions/LR3/2023-06-21-22-39-42is_installed.csv\", 'lr3_650')"
   ]
  },
  {
   "cell_type": "code",
   "execution_count": 15,
   "metadata": {},
   "outputs": [],
   "source": [
    "commit(\"/root/autodl-tmp/xingmei/RecSys23/predictions/DeepCrossingSEnet/2023-06-22-00-31-21is_installed.csv\", 'deepcrossingsenet_3697')"
   ]
  },
  {
   "cell_type": "code",
   "execution_count": 16,
   "metadata": {},
   "outputs": [],
   "source": [
    "commit(\"/root/autodl-tmp/xingmei/RecSys23/predictions/DeepCrossingSEnet/2023-06-22-00-38-08is_installed.csv\", 'deepcrossingsenet_3704')"
   ]
  },
  {
   "cell_type": "code",
   "execution_count": null,
   "metadata": {},
   "outputs": [],
   "source": [
    "commit(\"/root/autodl-tmp/xingmei/RecSys23/predictions/WideDeepSEnet/2023-06-22-00-49-24is_installed.csv\", 'widedeepsenet_3752')"
   ]
  }
 ],
 "metadata": {
  "kernelspec": {
   "display_name": "recsys",
   "language": "python",
   "name": "python3"
  },
  "language_info": {
   "codemirror_mode": {
    "name": "ipython",
    "version": 3
   },
   "file_extension": ".py",
   "mimetype": "text/x-python",
   "name": "python",
   "nbconvert_exporter": "python",
   "pygments_lexer": "ipython3",
   "version": "3.11.3"
  },
  "orig_nbformat": 4
 },
 "nbformat": 4,
 "nbformat_minor": 2
}
